{
 "cells": [
  {
   "cell_type": "code",
   "execution_count": 4,
   "metadata": {},
   "outputs": [],
   "source": [
    "from sklearn.cluster import DBSCAN, KMeans\n",
    "from sklearn.datasets import load_iris\n",
    "\n",
    "iris = load_iris()\n",
    "km = KMeans(n_clusters = 3)\n",
    "db = DBSCAN()"
   ]
  },
  {
   "cell_type": "code",
   "execution_count": 5,
   "metadata": {},
   "outputs": [
    {
     "data": {
      "text/plain": [
       "DBSCAN(algorithm='auto', eps=0.5, leaf_size=30, metric='euclidean',\n",
       "    metric_params=None, min_samples=5, n_jobs=1, p=None)"
      ]
     },
     "execution_count": 5,
     "metadata": {},
     "output_type": "execute_result"
    }
   ],
   "source": [
    "km.fit(iris.data)\n",
    "db.fit(iris.data)"
   ]
  },
  {
   "cell_type": "code",
   "execution_count": 13,
   "metadata": {},
   "outputs": [
    {
     "name": "stdout",
     "output_type": "stream",
     "text": [
      "kmeans\n",
      "silhouette 0.5525919445213676\n",
      "adj rand s 0.7302382722834697\n",
      "mutual info s 0.7483723933229485\n",
      "homogeinity 0.7514854021988339\n",
      "completeness 0.7649861514489816\n",
      "v measure 0.7581756800057786\n"
     ]
    }
   ],
   "source": [
    "from sklearn import metrics\n",
    "\n",
    "labels_true = iris.target\n",
    "labels_pred_km = km.labels_\n",
    "labels_pred_db = db.labels_\n",
    "\n",
    "print(\"kmeans\")\n",
    "print(\"silhouette\", metrics.silhouette_score(iris.data, labels_pred_km, metric='euclidean'))\n",
    "print(\"adj rand s\", metrics.adjusted_rand_score(labels_true, labels_pred_km))\n",
    "print(\"mutual info s\", metrics.adjusted_mutual_info_score(labels_true, labels_pred_km))\n",
    "print(\"homogeinity\", metrics.homogeneity_score(labels_true, labels_pred_km))\n",
    "print(\"completeness\", metrics.completeness_score(labels_true, labels_pred_km) )\n",
    "print(\"v measure\", metrics.v_measure_score(labels_true, labels_pred_km))\n"
   ]
  },
  {
   "cell_type": "code",
   "execution_count": 17,
   "metadata": {},
   "outputs": [
    {
     "name": "stdout",
     "output_type": "stream",
     "text": [
      "dbscan\n",
      "silhouette 0.4858423545758963\n",
      "adj rand s 0.5206185241703302\n",
      "mutual info s 0.5543650737746607\n",
      "homogeinity 0.5599460100861128\n",
      "completeness 0.6565579648058795\n",
      "v measure 0.6044156375501386\n"
     ]
    }
   ],
   "source": [
    "\n",
    "print(\"dbscan\")\n",
    "print(\"silhouette\", metrics.silhouette_score(iris.data, labels_pred_db, metric='euclidean'))\n",
    "print(\"adj rand s\", metrics.adjusted_rand_score(labels_true, labels_pred_db))\n",
    "print(\"mutual info s\", metrics.adjusted_mutual_info_score(labels_true, labels_pred_db))\n",
    "print(\"homogeinity\", metrics.homogeneity_score(labels_true, labels_pred_db))\n",
    "print(\"completeness\", metrics.completeness_score(labels_true, labels_pred_db) )\n",
    "print(\"v measure\", metrics.v_measure_score(labels_true, labels_pred_db))\n"
   ]
  },
  {
   "cell_type": "code",
   "execution_count": 18,
   "metadata": {},
   "outputs": [],
   "source": [
    "DBSCAN?"
   ]
  },
  {
   "cell_type": "code",
   "execution_count": null,
   "metadata": {},
   "outputs": [],
   "source": [
    "with open('/home/mquezada/anchor-text-twitter/data/nepal_tweets.tsv')"
   ]
  }
 ],
 "metadata": {
  "kernelspec": {
   "display_name": "Python 3",
   "language": "python",
   "name": "python3"
  },
  "language_info": {
   "codemirror_mode": {
    "name": "ipython",
    "version": 3
   },
   "file_extension": ".py",
   "mimetype": "text/x-python",
   "name": "python",
   "nbconvert_exporter": "python",
   "pygments_lexer": "ipython3",
   "version": "3.6.5"
  }
 },
 "nbformat": 4,
 "nbformat_minor": 2
}
