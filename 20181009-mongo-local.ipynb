{
 "cells": [
  {
   "cell_type": "code",
   "execution_count": 1,
   "metadata": {},
   "outputs": [],
   "source": [
    "from pymongo import MongoClient\n",
    "\n",
    "client = MongoClient(f'mongodb://localhost:27017')\n",
    "db = client.twitter_news_remote"
   ]
  },
  {
   "cell_type": "code",
   "execution_count": 2,
   "metadata": {},
   "outputs": [],
   "source": [
    "from bson import ObjectId\n",
    "\n",
    "libya = ObjectId('5b171725da870923dcb0478f')"
   ]
  },
  {
   "cell_type": "code",
   "execution_count": 3,
   "metadata": {},
   "outputs": [
    {
     "name": "stderr",
     "output_type": "stream",
     "text": [
      "14233it [00:00, 70794.58it/s]\n"
     ]
    }
   ],
   "source": [
    "from tqdm import tqdm\n",
    "from collections import defaultdict\n",
    "\n",
    "reps = db.representatives.find({'event': libya})\n",
    "all_tweets = list(db.tweets.find())\n",
    "\n",
    "tweets_rep = defaultdict(list)\n",
    "for t in all_tweets:\n",
    "    tweets_rep[str(t['representative'])].append(t)\n",
    "\n",
    "with open('topic_labeling_results/libya_repr_mapping.tsv', 'w') as f:\n",
    "    for r in tqdm(reps):\n",
    "        tweets = tweets_rep[str(r['_id'])]\n",
    "        for t in tweets:\n",
    "            f.write(f\"{str(r['_id'])}\\t{str(t['tweet_id'])}\\n\")\n",
    "    \n"
   ]
  },
  {
   "cell_type": "code",
   "execution_count": null,
   "metadata": {},
   "outputs": [],
   "source": []
  }
 ],
 "metadata": {
  "kernelspec": {
   "display_name": "Python 3",
   "language": "python",
   "name": "python3"
  },
  "language_info": {
   "codemirror_mode": {
    "name": "ipython",
    "version": 3
   },
   "file_extension": ".py",
   "mimetype": "text/x-python",
   "name": "python",
   "nbconvert_exporter": "python",
   "pygments_lexer": "ipython3",
   "version": "3.6.5"
  }
 },
 "nbformat": 4,
 "nbformat_minor": 2
}
