{
 "cells": [
  {
   "cell_type": "code",
   "execution_count": 1,
   "metadata": {},
   "outputs": [],
   "source": [
    "from gen_model2 import gen_model, load_data"
   ]
  },
  {
   "cell_type": "markdown",
   "metadata": {},
   "source": [
    "# Grafo de urls"
   ]
  },
  {
   "cell_type": "code",
   "execution_count": 2,
   "metadata": {},
   "outputs": [
    {
     "data": {
      "application/vnd.jupyter.widget-view+json": {
       "model_id": "e73bd32bff7a4cedbeb9c7c08660f99e",
       "version_major": 2,
       "version_minor": 0
      },
      "text/plain": [
       "HBox(children=(IntProgress(value=0, max=26331), HTML(value='')))"
      ]
     },
     "metadata": {},
     "output_type": "display_data"
    },
    {
     "name": "stdout",
     "output_type": "stream",
     "text": [
      "\n"
     ]
    }
   ],
   "source": [
    "from collections import defaultdict, Counter\n",
    "from tqdm import tqdm_notebook as tqdm\n",
    "\n",
    "def url_graph(dataset_name):\n",
    "    event_data, missing_urls_amount = load_data(dataset_name)\n",
    "\n",
    "    adj_list = defaultdict(lambda: Counter())\n",
    "\n",
    "    for tweet_id, tweet in tqdm(event_data.items(), total=len(event_data)):\n",
    "        if not tweet.expanded_urls:\n",
    "            continue\n",
    "        for url_u in tweet.expanded_urls.values():\n",
    "            for url_v in tweet.expanded_urls.values():\n",
    "                if url_u != url_v and url_u and url_v:\n",
    "                    adj_list[url_u][url_v] += 1\n",
    "\n",
    "    return adj_list\n",
    "\n",
    "g = url_graph('libya_hotel_tweets.tsv')"
   ]
  },
  {
   "cell_type": "code",
   "execution_count": 18,
   "metadata": {},
   "outputs": [],
   "source": [
    "nodes = dict()\n",
    "edges = list()\n",
    "\n",
    "for u, v_data in g.items():\n",
    "    nodes[u] = hash(u)\n",
    "    for v, cnt in v_data.items():\n",
    "        nodes[v] = hash(v)\n",
    "        edges.append((hash(u), hash(v), cnt))\n",
    "\n",
    "with open(f'data_exploration/url_nodes_libya.csv', 'w') as f:\n",
    "    f.write('Id;Label\\n')\n",
    "    for url, node_id in nodes.items():\n",
    "        f.write(f'{node_id};\"{url}\"\\n')\n",
    "        \n",
    "with open(f'data_exploration/url_edges_libya.csv', 'w') as f:\n",
    "    f.write('Source;Target;Weight;Type\\n')\n",
    "    for u, v, w in edges:\n",
    "        f.write(f'{u};{v};{w};Undirected\\n')"
   ]
  },
  {
   "cell_type": "code",
   "execution_count": 19,
   "metadata": {},
   "outputs": [
    {
     "data": {
      "application/vnd.jupyter.widget-view+json": {
       "model_id": "65eb9387c9b744a79fd522c9316ac719",
       "version_major": 2,
       "version_minor": 0
      },
      "text/plain": [
       "HBox(children=(IntProgress(value=0, max=112260), HTML(value='')))"
      ]
     },
     "metadata": {},
     "output_type": "display_data"
    },
    {
     "name": "stdout",
     "output_type": "stream",
     "text": [
      "\n"
     ]
    }
   ],
   "source": [
    "g = url_graph('oscar_pistorius_tweets.tsv')\n",
    "nodes = dict()\n",
    "edges = list()\n",
    "\n",
    "for u, v_data in g.items():\n",
    "    nodes[u] = hash(u)\n",
    "    for v, cnt in v_data.items():\n",
    "        nodes[v] = hash(v)\n",
    "        edges.append((hash(u), hash(v), cnt))\n",
    "\n",
    "with open(f'data_exploration/url_nodes_pistorius.csv', 'w') as f:\n",
    "    f.write('Id;Label\\n')\n",
    "    for url, node_id in nodes.items():\n",
    "        f.write(f'{node_id};\"{url}\"\\n')\n",
    "        \n",
    "with open(f'data_exploration/url_edges_pistorius.csv', 'w') as f:\n",
    "    f.write('Source;Target;Weight;Type\\n')\n",
    "    for u, v, w in edges:\n",
    "        f.write(f'{u};{v};{w};Undirected\\n')"
   ]
  },
  {
   "cell_type": "code",
   "execution_count": 20,
   "metadata": {},
   "outputs": [
    {
     "data": {
      "application/vnd.jupyter.widget-view+json": {
       "model_id": "fce92604bee44e3da42ece5615dcda61",
       "version_major": 2,
       "version_minor": 0
      },
      "text/plain": [
       "HBox(children=(IntProgress(value=0, max=503660), HTML(value='')))"
      ]
     },
     "metadata": {},
     "output_type": "display_data"
    },
    {
     "name": "stdout",
     "output_type": "stream",
     "text": [
      "\n"
     ]
    }
   ],
   "source": [
    "g = url_graph('nepal_tweets.tsv')\n",
    "nodes = dict()\n",
    "edges = list()\n",
    "\n",
    "for u, v_data in g.items():\n",
    "    nodes[u] = hash(u)\n",
    "    for v, cnt in v_data.items():\n",
    "        nodes[v] = hash(v)\n",
    "        edges.append((hash(u), hash(v), cnt))\n",
    "\n",
    "with open(f'data_exploration/url_nodes_nepal.csv', 'w') as f:\n",
    "    f.write('Id;Label\\n')\n",
    "    for url, node_id in nodes.items():\n",
    "        f.write(f'{node_id};\"{url}\"\\n')\n",
    "        \n",
    "with open(f'data_exploration/url_edges_nepal.csv', 'w') as f:\n",
    "    f.write('Source;Target;Weight;Type\\n')\n",
    "    for u, v, w in edges:\n",
    "        f.write(f'{u};{v};{w};Undirected\\n')"
   ]
  },
  {
   "cell_type": "code",
   "execution_count": null,
   "metadata": {},
   "outputs": [],
   "source": []
  },
  {
   "cell_type": "markdown",
   "metadata": {},
   "source": [
    "# Cluster 7 libya model url graph"
   ]
  },
  {
   "cell_type": "code",
   "execution_count": 31,
   "metadata": {},
   "outputs": [],
   "source": [
    "def url_graph_subset(dataset_name, tweet_ids):\n",
    "    event_data, missing_urls_amount = load_data(dataset_name)\n",
    "    tmp = dict()\n",
    "    for t in tweet_ids:\n",
    "        tmp[t] = event_data[t]\n",
    "    event_data = tmp\n",
    "\n",
    "    adj_list = defaultdict(lambda: Counter())\n",
    "\n",
    "    for tweet_id, tweet in tqdm(event_data.items(), total=len(event_data)):\n",
    "        if not tweet.expanded_urls:\n",
    "            continue\n",
    "        for url_u in tweet.expanded_urls.values():\n",
    "            for url_v in tweet.expanded_urls.values():\n",
    "                if url_u != url_v and url_u and url_v:\n",
    "                    adj_list[url_u][url_v] += 1\n",
    "\n",
    "    return adj_list"
   ]
  },
  {
   "cell_type": "code",
   "execution_count": 29,
   "metadata": {},
   "outputs": [
    {
     "data": {
      "application/vnd.jupyter.widget-view+json": {
       "model_id": "05d2f405e50c422785750248b4131589",
       "version_major": 2,
       "version_minor": 0
      },
      "text/plain": [
       "HBox(children=(IntProgress(value=0, max=6607), HTML(value='')))"
      ]
     },
     "metadata": {},
     "output_type": "display_data"
    },
    {
     "name": "stdout",
     "output_type": "stream",
     "text": [
      "\n"
     ]
    }
   ],
   "source": [
    "tweet_ids = []\n",
    "\n",
    "with open('data_exploration/libya_model_cluster_1_tweet_ids.txt') as f:\n",
    "    next(f)\n",
    "    for line in f:\n",
    "        tweet_ids.append(line[:-1])\n",
    "\n",
    "g = url_graph_subset('libya_hotel_tweets.tsv', tweet_ids)\n",
    "\n",
    "\n",
    "nodes = dict()\n",
    "edges = list()\n",
    "\n",
    "for u, v_data in g.items():\n",
    "    nodes[u] = hash(u)\n",
    "    for v, cnt in v_data.items():\n",
    "        nodes[v] = hash(v)\n",
    "        edges.append((hash(u), hash(v), cnt))\n",
    "\n",
    "with open(f'data_exploration/url_nodes_libya_cluster_1.csv', 'w') as f:\n",
    "    f.write('Id;Label\\n')\n",
    "    for url, node_id in nodes.items():\n",
    "        f.write(f'{node_id};\"{url}\"\\n')\n",
    "        \n",
    "with open(f'data_exploration/url_edges_libya_cluster_1.csv', 'w') as f:\n",
    "    f.write('Source;Target;Weight;Type\\n')\n",
    "    for u, v, w in edges:\n",
    "        f.write(f'{u};{v};{w};Undirected\\n')\n"
   ]
  },
  {
   "cell_type": "code",
   "execution_count": 32,
   "metadata": {},
   "outputs": [
    {
     "data": {
      "application/vnd.jupyter.widget-view+json": {
       "model_id": "2b7bdcd668b94b518d89426580649168",
       "version_major": 2,
       "version_minor": 0
      },
      "text/plain": [
       "HBox(children=(IntProgress(value=0, max=9), HTML(value='')))"
      ]
     },
     "metadata": {},
     "output_type": "display_data"
    },
    {
     "data": {
      "application/vnd.jupyter.widget-view+json": {
       "model_id": "3a64f8fd1f514899bd24dbdb1765b9b3",
       "version_major": 2,
       "version_minor": 0
      },
      "text/plain": [
       "HBox(children=(IntProgress(value=0, max=57443), HTML(value='')))"
      ]
     },
     "metadata": {},
     "output_type": "display_data"
    },
    {
     "data": {
      "application/vnd.jupyter.widget-view+json": {
       "model_id": "36e523e9139c4e2b9ddf637548042b92",
       "version_major": 2,
       "version_minor": 0
      },
      "text/plain": [
       "HBox(children=(IntProgress(value=0, max=17138), HTML(value='')))"
      ]
     },
     "metadata": {},
     "output_type": "display_data"
    },
    {
     "data": {
      "application/vnd.jupyter.widget-view+json": {
       "model_id": "b10824135a604a1d9bb58476b82be733",
       "version_major": 2,
       "version_minor": 0
      },
      "text/plain": [
       "HBox(children=(IntProgress(value=0, max=6124), HTML(value='')))"
      ]
     },
     "metadata": {},
     "output_type": "display_data"
    },
    {
     "data": {
      "application/vnd.jupyter.widget-view+json": {
       "model_id": "e3b35833d27e488f9b9897801e264773",
       "version_major": 2,
       "version_minor": 0
      },
      "text/plain": [
       "HBox(children=(IntProgress(value=0, max=68574), HTML(value='')))"
      ]
     },
     "metadata": {},
     "output_type": "display_data"
    },
    {
     "data": {
      "application/vnd.jupyter.widget-view+json": {
       "model_id": "b541f378d6d742968d64ab0768dc29c3",
       "version_major": 2,
       "version_minor": 0
      },
      "text/plain": [
       "HBox(children=(IntProgress(value=0, max=15047), HTML(value='')))"
      ]
     },
     "metadata": {},
     "output_type": "display_data"
    },
    {
     "data": {
      "application/vnd.jupyter.widget-view+json": {
       "model_id": "973271b7c2fe4421a4ced635761f1ec0",
       "version_major": 2,
       "version_minor": 0
      },
      "text/plain": [
       "HBox(children=(IntProgress(value=0, max=35680), HTML(value='')))"
      ]
     },
     "metadata": {},
     "output_type": "display_data"
    },
    {
     "data": {
      "application/vnd.jupyter.widget-view+json": {
       "model_id": "5ba01414b3c04332b4b3dd0d3558d1a1",
       "version_major": 2,
       "version_minor": 0
      },
      "text/plain": [
       "HBox(children=(IntProgress(value=0, max=39625), HTML(value='')))"
      ]
     },
     "metadata": {},
     "output_type": "display_data"
    },
    {
     "data": {
      "application/vnd.jupyter.widget-view+json": {
       "model_id": "bb832ef8322d490e95f063bc154cbdb5",
       "version_major": 2,
       "version_minor": 0
      },
      "text/plain": [
       "HBox(children=(IntProgress(value=0, max=106253), HTML(value='')))"
      ]
     },
     "metadata": {},
     "output_type": "display_data"
    },
    {
     "data": {
      "application/vnd.jupyter.widget-view+json": {
       "model_id": "cd0e384cdad648d8b10e0e87a81933a9",
       "version_major": 2,
       "version_minor": 0
      },
      "text/plain": [
       "HBox(children=(IntProgress(value=0, max=21472), HTML(value='')))"
      ]
     },
     "metadata": {},
     "output_type": "display_data"
    },
    {
     "name": "stdout",
     "output_type": "stream",
     "text": [
      "\n"
     ]
    }
   ],
   "source": [
    "for i in tqdm([1,2,3,4,5,6,7,9,10]):\n",
    "    tweet_ids = []\n",
    "\n",
    "    with open(f'data_exploration/nepal_model_cluster_{i}_tweet_ids.txt') as f:\n",
    "        next(f)\n",
    "        for line in f:\n",
    "            tweet_ids.append(line[:-1])\n",
    "\n",
    "    g = url_graph_subset('nepal_tweets.tsv', tweet_ids)\n",
    "\n",
    "    nodes = dict()\n",
    "    edges = list()\n",
    "\n",
    "    for u, v_data in g.items():\n",
    "        nodes[u] = hash(u)\n",
    "        for v, cnt in v_data.items():\n",
    "            nodes[v] = hash(v)\n",
    "            edges.append((hash(u), hash(v), cnt))\n",
    "\n",
    "    with open(f'data_exploration/url_nodes_nepal_cluster_{i}.csv', 'w') as f:\n",
    "        f.write('Id;Label\\n')\n",
    "        for url, node_id in nodes.items():\n",
    "            f.write(f'{node_id};\"{url}\"\\n')\n",
    "\n",
    "    with open(f'data_exploration/url_edges_nepal_cluster_{i}.csv', 'w') as f:\n",
    "        f.write('Source;Target;Weight;Type\\n')\n",
    "        for u, v, w in edges:\n",
    "            f.write(f'{u};{v};{w};Undirected\\n')\n"
   ]
  },
  {
   "cell_type": "code",
   "execution_count": 35,
   "metadata": {},
   "outputs": [],
   "source": [
    "event_data, _ = load_data('oscar_pistorius_tweets.tsv')"
   ]
  },
  {
   "cell_type": "code",
   "execution_count": 40,
   "metadata": {},
   "outputs": [
    {
     "name": "stdout",
     "output_type": "stream",
     "text": [
      "Graphic Pistorius Case Evidence Banned from Twitter - http://t.co/RtgqFy29hH.. http://t.co/ai43eSCXXz #broadway\n",
      "Judge Bans 'Graphic' Pistorius Case Testimony from Twitter, TV (http://t.co/vgPNk8t9PW) http://t.co/r66W2K91Sh\n",
      "Pistorius Murder Trial Shown Blood-Stained Prosthetic Legs (http://t.co/vgPNk8t9PW) http://t.co/AyexDZJXLL\n",
      "'Bizarre' Decision Delays Oscar #Pistorius' Murder Trial - http://t.co/52wYsCn80u http://t.co/NehUl4Hh0h #oscartrial\n",
      "#TopNews Oscar Pistorius at Murder Trial: 'I Was Besotted' With Reeva - http://t.co/czkGi8ygP9 http://t.co/EpGK6sil6B\n",
      "Pistorius To Reeva: 'I'm The Luckiest Guy Ever' - http://t.co/AXJUNk5J0W http://t.co/OUy84LBjat\n",
      "Pistorius To Reeva: 'I'm The Luckiest Guy Ever' - http://t.co/YXuIyCfRqp http://t.co/KDfXAvZr4v\n",
      "Oscar Pistorius Murder Trial Hears of Night Reeva Was Killed - http://t.co/YXuIyCfRqp http://t.co/9sKuMVh6Yr\n",
      "Pistorius: Reeva Made Dinner On Night I Killed Her - http://t.co/O2h0pFO5Kt: South African Broadcasting Corpora... http://t.co/9wzrBXhHjW\n",
      "#RT Oscar Pistorius Recounts Night He Killed Reeva Steenkamp - http://t.co/fZyCw6BtTf http://t.co/NIZxGlUZBs #FollowMe #Retweet\n",
      "#TopNews Oscar Pistorius Recounts Night He Killed Reeva Steenkamp - http://t.co/nGXlkbBwLn http://t.co/ZikuIiDEVn #RT #RETWEET\n",
      "Cross-Examination: 'You Killed Reeva Steenkamp ... Say it.' - http://t.co/XdylAA60xW http://t.co/bjDRTIISoq\n",
      "Top News: Supporters Greet Oscar Pistorius With Balloons and Well-Wishes - http://t.co/Z3k2y2X3aU http://t.co/gBnUWqov12\n",
      "Supporters Greet Oscar #Pistorius With Balloons and Well-Wishes - http://t.co/52wYsCn80u http://t.co/6ZTOQs64AB #oscartrial\n",
      "Supporters Greet Oscar #Pistorius With Balloons - http://t.co/52wYsCn80u http://t.co/HnJVSzDT0Y #oscartrial\n",
      "Top News: Oscar Pistorius Faces Uphill Battle in Murder Trial After Prosecutor's Barrage ... - http://t.co/Z3k2y2X3aU http://t.co/OVS98EwBLd\n",
      "I Never Told Reeva Steenkamp I Loved Her, Oscar Pistorius Says - http://t.co/rQnIDN4Pa0 http://t.co/7pprbAccCn\n",
      "Oscar Pistorius on Stand: 'I'm Getting Confused' - http://t.co/PsnjzGIhtx Oscar Pistorius on Stand: 'I'm Ge... http://t.co/fYes4Z86xt\n",
      "Judge Sends 'Blade Runner' for Psychiatric Tests - http://t.co/fCT3c9oSuL http://t.co/lvaDKvrJdQ\n",
      "Judge Sends 'Blade Runner' for Psychiatric Tests - http://t.co/owhCpWWWM1 http://t.co/0JRv877DVe\n",
      "Judge Sends 'Blade Runner' for Psychiatric Tests - http://t.co/zJAA1Sk8HR http://t.co/pffz3FoxwM\n",
      "Judge Sends 'Blade Runner' for Psychiatric Tests - http://t.co/amoXcokgfI http://t.co/TSP6ldDwZo\n",
      "Judge Sends 'Blade Runner' for Psychiatric Tests - http://t.co/538TFverIN http://t.co/BNeuUqttDC\n",
      "#wearethepeople Judge Sends 'Blade Runner' for Psychiatric Tests - http://t.co/jjT4rio8w2 http://t.co/WHu0FvtjVY\n",
      "#KenyaMedicalNews Pistorius Knew Right From Wrong, Psychiatrists Say - http://t.co/VLswVwl2D9: Times... http://t.co/yduturEIuI #AfyaKenya\n",
      "Mentally Ill or Malicious? What's Next in the Pistorius Trial (http://t.co/vgPNk8t9PW) http://t.co/2lACY0ZxZG\n",
      "Mentally Ill or Malicious? What's Next in the Pistorius Trial - http://t.co/wbIBf37GZ5 http://t.co/QTVO5FYWP3\n",
      "Oscar Pistorius Has Major Depressive Disorder, PTSD: Doctors - http://t.co/nmYjjOcm3W\n",
      "Pistorius Attorneys Get One Last Chance to Prove Their Case - http://t.co/rS7VJbiHwr http://t.co/tegY79KxVZ\n",
      "Pistorius Attorneys Get One Last Chance to Prove Their Case - http://t.co/pNqf6Ou4rh: NBCNews.comPistorius Atto... http://t.co/0JUPGYXZbk\n",
      "Pistorius Attorneys Get One Last Chance to Prove Their Case - http://t.co/KlQdnc8UTd: NBCNews.comPistorius Atto... http://t.co/kKnDEDQ5QQ\n",
      "Pistorius Murder-Trial Lawyers to Present Their Final Arguments - Businessweek: http://t.co/b4WQ4T2D7M Pistorius... http://t.co/EOS9tXMUpz\n",
      "Pistorius Murder-Trial Lawyers to Present Their Final Arguments - Businessweek: http://t.co/dhDjxozpDJ Pistorius... http://t.co/5HEmf3ZJlK\n",
      "Pistorius Attorneys Get One Last Chance to Prove Their Case - http://t.co/kEFVi9rzkn: NBCNews.comPistorius Atto... http://t.co/QrsaGIzMoT\n",
      "Pistorius Attorneys Get One Last Chance to Prove Their Case - http://t.co/1o5aQ4IBjR http://t.co/qsUAbqC6uH\n",
      "Pistorius Attorneys Get One Last Chance to Prove Their Case - http://t.co/o48x3vj8Mi http://t.co/tyYTGKQ5wY\n",
      "Pistorius Attorneys Get One Last Chance to Prove Their Case - http://t.co/UWrd1LJ5Qp http://t.co/9zJlyjFMKD\n",
      "Pistorius Attorneys Get One Last Chance to Prove Their Case - http://t.co/mqAVryyF75 http://t.co/b6jjRIzcNO\n",
      "#wearethepeople Pistorius Attorneys Get One Last Chance to Prove Their Case - http://t.co/T0zry6bcO1 http://t.co/AJhg54wEAt\n",
      "Pistorius Attorneys Get One Last Chance to Prove Their Case - http://t.co/NxymtNPCJl http://t.co/eNhxlu82TO\n",
      "Pistorius Attorneys Get One Last Chance to Prove Their Case - http://t.co/9oElOGaoEZ http://t.co/wCZPG3dRDb\n",
      "Oscar Pistorius Murder Trial Hears Final Prosecution Arguments - http://t.co/VooBQOidI7: NBCNews.comOscar Pisto... http://t.co/G2YSH3rj4o\n",
      "Oscar Pistorius Murder Trial Hears Final Prosecution Arguments - http://t.co/RtgqFy29hH..  #broadway\n",
      "Oscar Pistorius Murder Trial Hears Final Prosecution Arguments - http://t.co/VHecCUPfot..  #Braves #MLB\n",
      "Oscar Pistorius Murder Trial Hears Final Prosecution Arguments - http://t.co/usJo4SKY9P http://t.co/M3fVr7y3SR\n",
      "Oscar Pistorius Evidence Was Tampered With by Cops, Defense Says - http://t.co/yB0he6YlBs http://t.co/wTAmUmGF7b\n"
     ]
    }
   ],
   "source": [
    "for t, d in event_data.items():\n",
    "    for _, u in d.expanded_urls.items():\n",
    "        if u == 'http://www.nbcnews.com/':\n",
    "            print(d.text)"
   ]
  },
  {
   "cell_type": "code",
   "execution_count": null,
   "metadata": {},
   "outputs": [],
   "source": []
  },
  {
   "cell_type": "markdown",
   "metadata": {},
   "source": [
    "# Generar modelos para cada evento"
   ]
  },
  {
   "cell_type": "code",
   "execution_count": 3,
   "metadata": {},
   "outputs": [
    {
     "name": "stderr",
     "output_type": "stream",
     "text": [
      "100%|██████████| 26331/26331 [00:00<00:00, 802145.67it/s]\n",
      "100%|██████████| 112260/112260 [00:00<00:00, 866074.33it/s]\n",
      "100%|██████████| 503660/503660 [00:00<00:00, 758978.62it/s]\n"
     ]
    }
   ],
   "source": [
    "models = {\n",
    "    'libya': gen_model('libya_hotel_tweets.tsv'),\n",
    "    'pistorius': gen_model('oscar_pistorius_tweets.tsv'),\n",
    "    'nepal': gen_model('nepal_tweets.tsv')\n",
    "}"
   ]
  },
  {
   "cell_type": "markdown",
   "metadata": {},
   "source": [
    "# Tamaños de componentes y cantidad de URLs"
   ]
  },
  {
   "cell_type": "code",
   "execution_count": 63,
   "metadata": {},
   "outputs": [],
   "source": [
    "from collections import defaultdict\n",
    "\n",
    "url_index = defaultdict(lambda: defaultdict(list))\n",
    "components = defaultdict(lambda: defaultdict(list))\n",
    "\n",
    "for event, info in models.items():\n",
    "    for component in info['components']:\n",
    "        key = []\n",
    "        value = []\n",
    "        for element in component:\n",
    "            if element.startswith('http'):\n",
    "                key.append(element)\n",
    "            else:\n",
    "                tweet_id = element.split('_')[0]\n",
    "                tweet = info['event_data'][tweet_id]\n",
    "                value.append(tweet.tweet_id)\n",
    "        if not key:\n",
    "            key = [tweet.tweet_id]\n",
    "            \n",
    "        hash_key = hash(tuple(key))\n",
    "        url_index[event][hash_key] = tuple(key)\n",
    "        components[event][hash_key] = value"
   ]
  },
  {
   "cell_type": "code",
   "execution_count": 64,
   "metadata": {},
   "outputs": [
    {
     "name": "stdout",
     "output_type": "stream",
     "text": [
      "libya\n",
      "====================\n",
      "tweets: 26331\n",
      "components: 3399\n",
      "largest component sizes: [1802, 1058, 746, 653, 415, 398, 385, 237, 236, 187, 186, 148, 145, 140, 125]\n",
      "greatest amount of urls in any component: 10\n",
      "\n",
      "pistorius\n",
      "====================\n",
      "tweets: 112260\n",
      "components: 9641\n",
      "largest component sizes: [2674, 1003, 873, 766, 748, 720, 692, 619, 490, 464, 423, 408, 405, 405, 399]\n",
      "greatest amount of urls in any component: 3\n",
      "\n",
      "nepal\n",
      "====================\n",
      "tweets: 503660\n",
      "components: 22915\n",
      "largest component sizes: [55309, 45063, 12120, 4439, 3885, 3161, 3067, 2640, 2607, 2482, 2304, 2299, 2246, 2170, 2138]\n",
      "greatest amount of urls in any component: 46\n",
      "\n"
     ]
    }
   ],
   "source": [
    "max_urls = dict()\n",
    "\n",
    "for event, comp in components.items():\n",
    "    m = 0\n",
    "    h = 0\n",
    "    \n",
    "    for hash_key, tweet_ids in comp.items():\n",
    "        urls = url_index[event][hash_key]\n",
    "        if len(urls) > m:\n",
    "            m = len(urls)\n",
    "            h = hash_key\n",
    "            \n",
    "    max_urls[event] = h\n",
    "    \n",
    "    print(event)\n",
    "    print(\"=\" * 20)\n",
    "    print(\"tweets:\", len(models[event]['event_data']))\n",
    "    print(\"components:\", len(models[event]['components']))\n",
    "    print(\"largest component sizes:\", sorted([len(x) for x in models[event]['components']], reverse=True)[:15])\n",
    "    print(\"greatest amount of urls in any component:\", m)\n",
    "    print()"
   ]
  },
  {
   "cell_type": "markdown",
   "metadata": {},
   "source": [
    "# Gen vectors (model)"
   ]
  },
  {
   "cell_type": "code",
   "execution_count": 134,
   "metadata": {},
   "outputs": [],
   "source": [
    "import spacy\n",
    "from gensim.models import KeyedVectors\n",
    "\n",
    "nlp = spacy.load('en', disable=[\"tagger\", \"parser\", \"ner\"])\n",
    "we = KeyedVectors.load_word2vec_format('/home/mquezada/anchor-text-twitter/data/ft_alltweets_model.vec')"
   ]
  },
  {
   "cell_type": "code",
   "execution_count": null,
   "metadata": {},
   "outputs": [],
   "source": []
  },
  {
   "cell_type": "code",
   "execution_count": 163,
   "metadata": {},
   "outputs": [
    {
     "data": {
      "application/vnd.jupyter.widget-view+json": {
       "model_id": "cd44532378984e859f6d4c1bbf857233",
       "version_major": 2,
       "version_minor": 0
      },
      "text/plain": [
       "HBox(children=(IntProgress(value=0, max=3), HTML(value='')))"
      ]
     },
     "metadata": {},
     "output_type": "display_data"
    },
    {
     "data": {
      "application/vnd.jupyter.widget-view+json": {
       "model_id": "991536cfd4a74af7a556ff9093bfbad7",
       "version_major": 2,
       "version_minor": 0
      },
      "text/plain": [
       "HBox(children=(IntProgress(value=0, max=3399), HTML(value='')))"
      ]
     },
     "metadata": {},
     "output_type": "display_data"
    },
    {
     "data": {
      "application/vnd.jupyter.widget-view+json": {
       "model_id": "1338011440ab4f8285222197c8d197f5",
       "version_major": 2,
       "version_minor": 0
      },
      "text/plain": [
       "HBox(children=(IntProgress(value=0, max=9641), HTML(value='')))"
      ]
     },
     "metadata": {},
     "output_type": "display_data"
    },
    {
     "name": "stderr",
     "output_type": "stream",
     "text": [
      "/home/mquezada/anaconda3/envs/news-model/lib/python3.6/site-packages/ipykernel_launcher.py:16: RuntimeWarning: invalid value encountered in true_divide\n",
      "  app.launch_new_instance()\n"
     ]
    },
    {
     "data": {
      "application/vnd.jupyter.widget-view+json": {
       "model_id": "de28b9689b164e2780a21687ebb73433",
       "version_major": 2,
       "version_minor": 0
      },
      "text/plain": [
       "HBox(children=(IntProgress(value=0, max=22914), HTML(value='')))"
      ]
     },
     "metadata": {},
     "output_type": "display_data"
    },
    {
     "name": "stdout",
     "output_type": "stream",
     "text": [
      "\n"
     ]
    }
   ],
   "source": [
    "from tqdm import tqdm_notebook as tqdm\n",
    "from numpy.linalg import norm\n",
    "\n",
    "vectors = dict()\n",
    "\n",
    "for event, comp in tqdm(components.items()):\n",
    "    vectors[event] = dict()\n",
    "    \n",
    "    for key, tweet_ids in tqdm(comp.items()):\n",
    "        vec = np.zeros(100)\n",
    "        for tweet_id in tweet_ids:\n",
    "            tweet = models[event]['event_data'][tweet_id]\n",
    "            text = tweet.text\n",
    "            for word in [token.lower_ for token in nlp(text) if token.lower_ in we]:\n",
    "                vec += we[word]\n",
    "        vec = vec / norm(vec)\n",
    "        vectors[event][key] = vec"
   ]
  },
  {
   "cell_type": "code",
   "execution_count": 164,
   "metadata": {},
   "outputs": [
    {
     "data": {
      "text/plain": [
       "array([ 0.02824225, -0.04819198,  0.09099605, -0.04282068,  0.08411294,\n",
       "       -0.01181907, -0.10118419, -0.18535867,  0.14068391,  0.07276644,\n",
       "        0.05486462, -0.02530425,  0.01852417,  0.09298686,  0.12845652,\n",
       "        0.1269716 ,  0.04025012,  0.02436369, -0.07346373,  0.12511754,\n",
       "        0.08789154,  0.10809686, -0.08620558, -0.03800771, -0.03070271,\n",
       "        0.14631607, -0.12935321,  0.06226652, -0.11367712,  0.08689723,\n",
       "       -0.05497215,  0.19838188, -0.14424345,  0.06313043, -0.14838853,\n",
       "       -0.05787362, -0.06099151,  0.0034573 ,  0.09745442, -0.15208666,\n",
       "        0.0561565 ,  0.02260357, -0.07828806,  0.01789875, -0.08244725,\n",
       "        0.08319958, -0.04638927, -0.03046983, -0.0057817 ,  0.03925547,\n",
       "       -0.01676722,  0.03366156,  0.18768177,  0.13551884,  0.13051724,\n",
       "        0.06885202,  0.09735954, -0.09844771,  0.12467296, -0.07162147,\n",
       "       -0.0284972 ,  0.03718158, -0.06984176,  0.13768083,  0.11884792,\n",
       "       -0.07425329, -0.11236573, -0.14860732,  0.04523326, -0.00510527,\n",
       "       -0.07749669,  0.00035122,  0.05513314, -0.10911051, -0.06579821,\n",
       "        0.01610454, -0.01715169,  0.20853161, -0.0428802 , -0.02931063,\n",
       "        0.05401385,  0.17145948, -0.05812224,  0.0842648 ,  0.15814255,\n",
       "        0.12379123,  0.09681341, -0.08756595, -0.02337459,  0.0917096 ,\n",
       "       -0.10674457, -0.19728737,  0.08932591,  0.10663758, -0.24498716,\n",
       "        0.02845322, -0.10979374, -0.04587581, -0.25295517, -0.05812933])"
      ]
     },
     "execution_count": 164,
     "metadata": {},
     "output_type": "execute_result"
    }
   ],
   "source": [
    "vectors['libya'][list(vectors['libya'].keys())[1]]"
   ]
  },
  {
   "cell_type": "code",
   "execution_count": null,
   "metadata": {},
   "outputs": [],
   "source": []
  },
  {
   "cell_type": "markdown",
   "metadata": {},
   "source": [
    "# Gen vectors (raw)"
   ]
  },
  {
   "cell_type": "code",
   "execution_count": 168,
   "metadata": {},
   "outputs": [
    {
     "data": {
      "application/vnd.jupyter.widget-view+json": {
       "model_id": "619643ee986243ec9e4ded9aca6fac57",
       "version_major": 2,
       "version_minor": 0
      },
      "text/plain": [
       "HBox(children=(IntProgress(value=0, max=3), HTML(value='')))"
      ]
     },
     "metadata": {},
     "output_type": "display_data"
    },
    {
     "data": {
      "application/vnd.jupyter.widget-view+json": {
       "model_id": "5d9b18d0f4ef45f396aafdc0f2aea321",
       "version_major": 2,
       "version_minor": 0
      },
      "text/plain": [
       "HBox(children=(IntProgress(value=0, max=26331), HTML(value='')))"
      ]
     },
     "metadata": {},
     "output_type": "display_data"
    },
    {
     "data": {
      "application/vnd.jupyter.widget-view+json": {
       "model_id": "c6563802b91a41c788163e71edbf7f16",
       "version_major": 2,
       "version_minor": 0
      },
      "text/plain": [
       "HBox(children=(IntProgress(value=0, max=112260), HTML(value='')))"
      ]
     },
     "metadata": {},
     "output_type": "display_data"
    },
    {
     "name": "stderr",
     "output_type": "stream",
     "text": [
      "/home/mquezada/anaconda3/envs/news-model/lib/python3.6/site-packages/ipykernel_launcher.py:13: RuntimeWarning: invalid value encountered in true_divide\n",
      "  del sys.path[0]\n"
     ]
    },
    {
     "data": {
      "application/vnd.jupyter.widget-view+json": {
       "model_id": "4735369bc29743f4a256629dafcc7eb1",
       "version_major": 2,
       "version_minor": 0
      },
      "text/plain": [
       "HBox(children=(IntProgress(value=0, max=503660), HTML(value='')))"
      ]
     },
     "metadata": {},
     "output_type": "display_data"
    },
    {
     "name": "stdout",
     "output_type": "stream",
     "text": [
      "\n"
     ]
    }
   ],
   "source": [
    "vectors_raw = dict()\n",
    "\n",
    "for event, info in tqdm(models.items()):\n",
    "    vectors_raw[event] = dict()\n",
    "    event_data = info['event_data']\n",
    "\n",
    "    for tweet_id, tweet in tqdm(event_data.items()):\n",
    "        text = tweet.text\n",
    "        tweet_vec = np.zeros(100)\n",
    "        for word in [token.lower_ for token in nlp(text) if token.lower_ in we]:\n",
    "            tweet_vec += we[word]\n",
    "            \n",
    "        tweet_vec = tweet_vec / norm(tweet_vec)\n",
    "        vectors_raw[event][tweet_id] = tweet_vec"
   ]
  },
  {
   "cell_type": "code",
   "execution_count": null,
   "metadata": {},
   "outputs": [],
   "source": []
  },
  {
   "cell_type": "code",
   "execution_count": null,
   "metadata": {},
   "outputs": [],
   "source": []
  },
  {
   "cell_type": "code",
   "execution_count": 11,
   "metadata": {},
   "outputs": [
    {
     "data": {
      "text/plain": [
       "Tweet(tweet_id='560029549866811393', retweet_id='560027393432502272', quote_id='NULL', reply_id='NULL', short_urls=['http://t.co/5TK7TsFd6P', 'http://t.co/jszG3p'], expanded_urls={0: 'https://www.rt.com/news/226603-libya-tripoli-gunmen-seige/', 1: None}, text='#CorinthiaHotel: Suicide bombers &amp; 5 masked gunmen attack hotel, hostages on top floor  http://t.co/5TK7TsFd6P #Lybia http://t.co/jszG3p', created_at='2015-01-27 11:00:24')"
      ]
     },
     "execution_count": 11,
     "metadata": {},
     "output_type": "execute_result"
    }
   ],
   "source": [
    "models['libya']['event_data']['560029549866811393']"
   ]
  },
  {
   "cell_type": "markdown",
   "metadata": {},
   "source": [
    "# Save data"
   ]
  },
  {
   "cell_type": "code",
   "execution_count": 169,
   "metadata": {},
   "outputs": [
    {
     "data": {
      "application/vnd.jupyter.widget-view+json": {
       "model_id": "c79bbb8a745e40bc9e5b040c733e6e72",
       "version_major": 2,
       "version_minor": 0
      },
      "text/plain": [
       "HBox(children=(IntProgress(value=0, max=3), HTML(value='')))"
      ]
     },
     "metadata": {},
     "output_type": "display_data"
    },
    {
     "name": "stdout",
     "output_type": "stream",
     "text": [
      "\n"
     ]
    },
    {
     "data": {
      "application/vnd.jupyter.widget-view+json": {
       "model_id": "ce614861c1ed4588af2bb51eb5f93041",
       "version_major": 2,
       "version_minor": 0
      },
      "text/plain": [
       "HBox(children=(IntProgress(value=0, max=3), HTML(value='')))"
      ]
     },
     "metadata": {},
     "output_type": "display_data"
    },
    {
     "name": "stdout",
     "output_type": "stream",
     "text": [
      "\n"
     ]
    },
    {
     "data": {
      "application/vnd.jupyter.widget-view+json": {
       "model_id": "6e2e2feaba864e329d6be3216b8e9606",
       "version_major": 2,
       "version_minor": 0
      },
      "text/plain": [
       "HBox(children=(IntProgress(value=0, max=3), HTML(value='')))"
      ]
     },
     "metadata": {},
     "output_type": "display_data"
    },
    {
     "name": "stdout",
     "output_type": "stream",
     "text": [
      "\n"
     ]
    },
    {
     "data": {
      "application/vnd.jupyter.widget-view+json": {
       "model_id": "7891261ca7eb4ab5b397446dcb3216fc",
       "version_major": 2,
       "version_minor": 0
      },
      "text/plain": [
       "HBox(children=(IntProgress(value=0, max=3), HTML(value='')))"
      ]
     },
     "metadata": {},
     "output_type": "display_data"
    },
    {
     "name": "stdout",
     "output_type": "stream",
     "text": [
      "\n"
     ]
    },
    {
     "data": {
      "application/vnd.jupyter.widget-view+json": {
       "model_id": "efca897c231942ffa77f4fb729e8da75",
       "version_major": 2,
       "version_minor": 0
      },
      "text/plain": [
       "HBox(children=(IntProgress(value=0, max=3), HTML(value='')))"
      ]
     },
     "metadata": {},
     "output_type": "display_data"
    },
    {
     "name": "stdout",
     "output_type": "stream",
     "text": [
      "\n"
     ]
    }
   ],
   "source": [
    "with open(f'data_exploration/model_orig_components.tsv', 'w') as f:\n",
    "    for event, component in tqdm(components.items()):\n",
    "        for key, tweet_ids in component.items():\n",
    "            for tweet_id in tweet_ids:\n",
    "                f.write(f'{event}\\t{key}\\t{tweet_id}\\n')\n",
    "            \n",
    "            \n",
    "with open(f'data_exploration/model_orig_urlindex.tsv', 'w') as f:\n",
    "    for event, url_data in tqdm(url_index.items()):\n",
    "        for key, urls in url_data.items():\n",
    "            for url in urls:\n",
    "                f.write(f'{event}\\t{key}\\t{url}\\n')\n",
    "            \n",
    "            \n",
    "with open(f'data_exploration/model_orig_data.tsv', 'w') as f:\n",
    "    for event, info in tqdm(models.items()):\n",
    "        for tweet_id, tweet in info['event_data'].items():\n",
    "            text = tweet.text\n",
    "            text = text.replace('\"', \"'\")\n",
    "            text = text.split()\n",
    "            text = ' '.join(text)\n",
    "            text = f'\"{text}\"'\n",
    "            \n",
    "            rt_id = tweet.retweet_id\n",
    "            rp_id = tweet.reply_id\n",
    "            \n",
    "            f.write(f'{event}\\t{tweet_id}\\t{rt_id}\\t{rp_id}\\t{text}\\n')\n",
    "            \n",
    "            \n",
    "with open(f'data_exploration/model_orig_vectors.tsv', 'w') as f:\n",
    "    for event, vecs in tqdm(vectors.items()):\n",
    "        for key, vec in vecs.items():\n",
    "            vec_str = '\\t'.join(str(val) for val in vec)\n",
    "            f.write(f'{event}\\t{key}\\t{vec_str}\\n')\n",
    "                \n",
    "                \n",
    "with open(f'data_exploration/raw_vectors.tsv', 'w') as f:\n",
    "    for event, vecs in tqdm(vectors_raw.items()):\n",
    "        for tweet_id, vec in vecs.items():\n",
    "            vec_str = '\\t'.join(str(val) for val in vec)\n",
    "            f.write(f'{event}\\t{tweet_id}\\t{vec_str}\\n')"
   ]
  },
  {
   "cell_type": "code",
   "execution_count": 166,
   "metadata": {},
   "outputs": [
    {
     "data": {
      "text/plain": [
       "array([ 0.11043121, -0.08482812,  0.07795946, -0.02413196,  0.06910534,\n",
       "        0.00599392, -0.12493993, -0.14355456,  0.21563682,  0.13811442,\n",
       "       -0.02548832,  0.02814014, -0.0482075 ,  0.04765366,  0.18212018,\n",
       "        0.08994566,  0.0815139 , -0.00224837, -0.03025333,  0.17004545,\n",
       "        0.05835887,  0.0106208 , -0.06171078, -0.03750832, -0.10941179,\n",
       "        0.08753613, -0.18715044,  0.04483118, -0.12153643,  0.05315808,\n",
       "        0.01343694,  0.09029873, -0.16848046,  0.04481692, -0.2164297 ,\n",
       "        0.04585125, -0.0869918 ,  0.02272633, -0.00326092, -0.07996745,\n",
       "        0.06305606,  0.01456426, -0.09662235,  0.00533938, -0.12314915,\n",
       "        0.03813341, -0.02284748, -0.07256159, -0.04770311,  0.10574049,\n",
       "       -0.04172214,  0.06608655,  0.16439364,  0.15772197,  0.15262508,\n",
       "        0.09641186,  0.1156585 , -0.13303776,  0.07657688, -0.12303727,\n",
       "       -0.00156617, -0.05028406, -0.08030836,  0.15507677,  0.08092368,\n",
       "       -0.01289935, -0.1125555 , -0.10983721,  0.05219864,  0.05159408,\n",
       "       -0.06885489,  0.01910033,  0.11016917, -0.19206448, -0.15816291,\n",
       "       -0.05616155, -0.04573808,  0.16815731, -0.09880277, -0.10310383,\n",
       "        0.02196116,  0.16869631, -0.07040528,  0.01205   ,  0.10341924,\n",
       "        0.07811305,  0.09882159, -0.04343046, -0.07815833,  0.18261382,\n",
       "       -0.09927774, -0.15586764,  0.03750087,  0.06391264, -0.12904542,\n",
       "        0.02405056, -0.1047648 , -0.07738913, -0.15084008, -0.06963901])"
      ]
     },
     "execution_count": 166,
     "metadata": {},
     "output_type": "execute_result"
    }
   ],
   "source": [
    "vec"
   ]
  },
  {
   "cell_type": "code",
   "execution_count": null,
   "metadata": {},
   "outputs": [],
   "source": []
  },
  {
   "cell_type": "code",
   "execution_count": null,
   "metadata": {},
   "outputs": [],
   "source": []
  },
  {
   "cell_type": "code",
   "execution_count": null,
   "metadata": {},
   "outputs": [],
   "source": []
  },
  {
   "cell_type": "code",
   "execution_count": null,
   "metadata": {},
   "outputs": [],
   "source": []
  },
  {
   "cell_type": "code",
   "execution_count": null,
   "metadata": {},
   "outputs": [],
   "source": []
  },
  {
   "cell_type": "code",
   "execution_count": null,
   "metadata": {},
   "outputs": [],
   "source": []
  },
  {
   "cell_type": "code",
   "execution_count": null,
   "metadata": {},
   "outputs": [],
   "source": []
  },
  {
   "cell_type": "code",
   "execution_count": null,
   "metadata": {},
   "outputs": [],
   "source": []
  },
  {
   "cell_type": "code",
   "execution_count": null,
   "metadata": {},
   "outputs": [],
   "source": []
  },
  {
   "cell_type": "code",
   "execution_count": null,
   "metadata": {},
   "outputs": [],
   "source": []
  },
  {
   "cell_type": "code",
   "execution_count": null,
   "metadata": {},
   "outputs": [],
   "source": []
  },
  {
   "cell_type": "code",
   "execution_count": null,
   "metadata": {},
   "outputs": [],
   "source": []
  },
  {
   "cell_type": "code",
   "execution_count": null,
   "metadata": {},
   "outputs": [],
   "source": []
  },
  {
   "cell_type": "code",
   "execution_count": null,
   "metadata": {},
   "outputs": [],
   "source": []
  },
  {
   "cell_type": "code",
   "execution_count": null,
   "metadata": {},
   "outputs": [],
   "source": []
  },
  {
   "cell_type": "code",
   "execution_count": null,
   "metadata": {},
   "outputs": [],
   "source": []
  },
  {
   "cell_type": "code",
   "execution_count": null,
   "metadata": {},
   "outputs": [],
   "source": []
  },
  {
   "cell_type": "code",
   "execution_count": null,
   "metadata": {},
   "outputs": [],
   "source": []
  },
  {
   "cell_type": "code",
   "execution_count": null,
   "metadata": {},
   "outputs": [],
   "source": []
  },
  {
   "cell_type": "code",
   "execution_count": null,
   "metadata": {},
   "outputs": [],
   "source": []
  },
  {
   "cell_type": "code",
   "execution_count": null,
   "metadata": {},
   "outputs": [],
   "source": []
  },
  {
   "cell_type": "code",
   "execution_count": null,
   "metadata": {},
   "outputs": [],
   "source": []
  },
  {
   "cell_type": "code",
   "execution_count": null,
   "metadata": {},
   "outputs": [],
   "source": []
  },
  {
   "cell_type": "code",
   "execution_count": null,
   "metadata": {},
   "outputs": [],
   "source": []
  },
  {
   "cell_type": "markdown",
   "metadata": {},
   "source": [
    "# Conteo de URLs y tamaños de componentes"
   ]
  },
  {
   "cell_type": "code",
   "execution_count": 21,
   "metadata": {},
   "outputs": [
    {
     "ename": "NameError",
     "evalue": "name 'models' is not defined",
     "output_type": "error",
     "traceback": [
      "\u001b[0;31m---------------------------------------------------------------------------\u001b[0m",
      "\u001b[0;31mNameError\u001b[0m                                 Traceback (most recent call last)",
      "\u001b[0;32m<ipython-input-21-07720756152e>\u001b[0m in \u001b[0;36m<module>\u001b[0;34m()\u001b[0m\n\u001b[1;32m      1\u001b[0m \u001b[0;32mimport\u001b[0m \u001b[0mnumpy\u001b[0m \u001b[0;32mas\u001b[0m \u001b[0mnp\u001b[0m\u001b[0;34m\u001b[0m\u001b[0m\n\u001b[1;32m      2\u001b[0m \u001b[0;34m\u001b[0m\u001b[0m\n\u001b[0;32m----> 3\u001b[0;31m \u001b[0mlibya_comp_sizes\u001b[0m \u001b[0;34m=\u001b[0m \u001b[0mnp\u001b[0m\u001b[0;34m.\u001b[0m\u001b[0marray\u001b[0m\u001b[0;34m(\u001b[0m\u001b[0msorted\u001b[0m\u001b[0;34m(\u001b[0m\u001b[0;34m[\u001b[0m\u001b[0mlen\u001b[0m\u001b[0;34m(\u001b[0m\u001b[0mx\u001b[0m\u001b[0;34m)\u001b[0m \u001b[0;32mfor\u001b[0m \u001b[0mx\u001b[0m \u001b[0;32min\u001b[0m \u001b[0mmodels\u001b[0m\u001b[0;34m[\u001b[0m\u001b[0;34m'libya'\u001b[0m\u001b[0;34m]\u001b[0m\u001b[0;34m[\u001b[0m\u001b[0;34m'components'\u001b[0m\u001b[0;34m]\u001b[0m\u001b[0;34m]\u001b[0m\u001b[0;34m,\u001b[0m \u001b[0mreverse\u001b[0m\u001b[0;34m=\u001b[0m\u001b[0;32mTrue\u001b[0m\u001b[0;34m)\u001b[0m\u001b[0;34m)\u001b[0m\u001b[0;34m\u001b[0m\u001b[0m\n\u001b[0m\u001b[1;32m      4\u001b[0m \u001b[0mlibya_url_sizes\u001b[0m \u001b[0;34m=\u001b[0m \u001b[0mnp\u001b[0m\u001b[0;34m.\u001b[0m\u001b[0marray\u001b[0m\u001b[0;34m(\u001b[0m\u001b[0;34m[\u001b[0m\u001b[0mlen\u001b[0m\u001b[0;34m(\u001b[0m\u001b[0murl_index\u001b[0m\u001b[0;34m[\u001b[0m\u001b[0;34m'libya'\u001b[0m\u001b[0;34m]\u001b[0m\u001b[0;34m[\u001b[0m\u001b[0mkey\u001b[0m\u001b[0;34m]\u001b[0m\u001b[0;34m)\u001b[0m \u001b[0;32mfor\u001b[0m \u001b[0mkey\u001b[0m \u001b[0;32min\u001b[0m \u001b[0mcomponents\u001b[0m\u001b[0;34m[\u001b[0m\u001b[0;34m'libya'\u001b[0m\u001b[0;34m]\u001b[0m\u001b[0;34m.\u001b[0m\u001b[0mkeys\u001b[0m\u001b[0;34m(\u001b[0m\u001b[0;34m)\u001b[0m\u001b[0;34m]\u001b[0m\u001b[0;34m)\u001b[0m\u001b[0;34m\u001b[0m\u001b[0m\n\u001b[1;32m      5\u001b[0m \u001b[0;34m\u001b[0m\u001b[0m\n",
      "\u001b[0;31mNameError\u001b[0m: name 'models' is not defined"
     ]
    }
   ],
   "source": [
    "import numpy as np\n",
    "\n",
    "libya_comp_sizes = np.array(sorted([len(x) for x in models['libya']['components']], reverse=True))\n",
    "libya_url_sizes = np.array([len(url_index['libya'][key]) for key in components['libya'].keys()])\n",
    "\n",
    "pistorius_comp_sizes = np.array(sorted([len(x) for x in models['pistorius']['components']], reverse=True))\n",
    "pistorius_url_sizes = np.array([len(url_index['pistorius'][key]) for key in components['pistorius'].keys()])\n",
    "\n",
    "nepal_comp_sizes = np.array(sorted([len(x) for x in models['nepal']['components']], reverse=True))\n",
    "nepal_url_sizes = np.array([len(url_index['nepal'][key]) for key in components['nepal'].keys()])"
   ]
  },
  {
   "cell_type": "markdown",
   "metadata": {},
   "source": [
    "## Tamaños de componentes y cantidad de URLs por componente"
   ]
  },
  {
   "cell_type": "code",
   "execution_count": 127,
   "metadata": {},
   "outputs": [
    {
     "data": {
      "image/png": "[encoded data removed]"
     },
     "metadata": {},
     "output_type": "display_data"
    },
    {
     "data": {
      "image/png": "[encoded data removed]"
     },
     "metadata": {},
     "output_type": "display_data"
    },
    {
     "data": {
      "image/png": "[encoded data removed]"
     },
     "metadata": {},
     "output_type": "display_data"
    },
    {
     "data": {
      "image/png": "[encoded data removed]"
     },
     "metadata": {},
     "output_type": "display_data"
    },
    {
     "data": {
      "image/png": "[encoded data removed]"
     },
     "metadata": {},
     "output_type": "display_data"
    },
    {
     "data": {
      "image/png": "[encoded data removed]"
     },
     "metadata": {},
     "output_type": "display_data"
    }
   ],
   "source": [
    "%%R -i libya_comp_sizes -i libya_url_sizes -i pistorius_comp_sizes -i pistorius_url_sizes -i nepal_comp_sizes -i nepal_url_sizes -w 10 -h 5 --units in -r 75\n",
    "\n",
    "# TODO: usar una mejor forma de visualizar este tipo de distribuciones\n",
    "\n",
    "library(tidyverse)\n",
    "\n",
    "print(ggplot(tibble(libya_comp_sizes)) + geom_boxplot(aes(y=libya_comp_sizes), binwidth=10) + labs(x='Libya', y='Component Sizes')) \n",
    "print(ggplot(tibble(pistorius_comp_sizes)) + geom_boxplot(aes(y=pistorius_comp_sizes), binwidth=10) + labs(x='Pistorius', y='Component Sizes'))\n",
    "print(ggplot(tibble(nepal_comp_sizes)) + geom_boxplot(aes(y=nepal_comp_sizes), binwidth=10) + labs(x='Nepal', y='Component Sizes'))\n",
    "\n",
    "\n",
    "print(ggplot(tibble(libya_url_sizes)) + geom_boxplot(aes(y=libya_url_sizes), binwidth=10) + labs(x='Libya', y='URLs por componente')) \n",
    "print(ggplot(tibble(pistorius_url_sizes)) + geom_boxplot(aes(y=pistorius_url_sizes), binwidth=10) + labs(x='Pistorius', y='URLs por componente'))\n",
    "print(ggplot(tibble(nepal_url_sizes)) + geom_boxplot(aes(y=nepal_url_sizes), binwidth=10) + labs(x='Nepal', y='URLs por componente'))"
   ]
  },
  {
   "cell_type": "code",
   "execution_count": 69,
   "metadata": {},
   "outputs": [
    {
     "data": {
      "text/plain": [
       "[1,\n",
       " 1,\n",
       " 1,\n",
       " 1,\n",
       " 1,\n",
       " 1,\n",
       " 1,\n",
       " 1,\n",
       " 1,\n",
       " 1,\n",
       " 1,\n",
       " 1,\n",
       " 1,\n",
       " 1,\n",
       " 1,\n",
       " 1,\n",
       " 1,\n",
       " 1,\n",
       " 2,\n",
       " 1,\n",
       " 1,\n",
       " 1,\n",
       " 1,\n",
       " 1,\n",
       " 1,\n",
       " 1,\n",
       " 1,\n",
       " 1,\n",
       " 1,\n",
       " 1,\n",
       " 1,\n",
       " 1,\n",
       " 1,\n",
       " 1,\n",
       " 1,\n",
       " 1,\n",
       " 1,\n",
       " 1,\n",
       " 1,\n",
       " 1,\n",
       " 1,\n",
       " 1,\n",
       " 1,\n",
       " 1,\n",
       " 1,\n",
       " 1,\n",
       " 1,\n",
       " 1,\n",
       " 1,\n",
       " 1,\n",
       " 1,\n",
       " 1,\n",
       " 1,\n",
       " 1,\n",
       " 1,\n",
       " 1,\n",
       " 2,\n",
       " 1,\n",
       " 1,\n",
       " 1,\n",
       " 1,\n",
       " 1,\n",
       " 1,\n",
       " 1,\n",
       " 1,\n",
       " 1,\n",
       " 1,\n",
       " 1,\n",
       " 1,\n",
       " 1,\n",
       " 1,\n",
       " 1,\n",
       " 1,\n",
       " 1,\n",
       " 1,\n",
       " 1,\n",
       " 1,\n",
       " 1,\n",
       " 1,\n",
       " 1,\n",
       " 1,\n",
       " 1,\n",
       " 1,\n",
       " 1,\n",
       " 1,\n",
       " 1,\n",
       " 1,\n",
       " 1,\n",
       " 1,\n",
       " 1,\n",
       " 1,\n",
       " 1,\n",
       " 1,\n",
       " 1,\n",
       " 1,\n",
       " 1,\n",
       " 1,\n",
       " 1,\n",
       " 1,\n",
       " 1,\n",
       " 1,\n",
       " 1,\n",
       " 1,\n",
       " 1,\n",
       " 1,\n",
       " 1,\n",
       " 1,\n",
       " 1,\n",
       " 1,\n",
       " 1,\n",
       " 1,\n",
       " 1,\n",
       " 1,\n",
       " 1,\n",
       " 1,\n",
       " 1,\n",
       " 1,\n",
       " 1,\n",
       " 1,\n",
       " 1,\n",
       " 1,\n",
       " 1,\n",
       " 1,\n",
       " 1,\n",
       " 1,\n",
       " 1,\n",
       " 1,\n",
       " 1,\n",
       " 1,\n",
       " 1,\n",
       " 1,\n",
       " 1,\n",
       " 1,\n",
       " 1,\n",
       " 1,\n",
       " 1,\n",
       " 1,\n",
       " 1,\n",
       " 1,\n",
       " 1,\n",
       " 1,\n",
       " 1,\n",
       " 1,\n",
       " 1,\n",
       " 1,\n",
       " 1,\n",
       " 1,\n",
       " 1,\n",
       " 1,\n",
       " 1,\n",
       " 1,\n",
       " 1,\n",
       " 1,\n",
       " 1,\n",
       " 1,\n",
       " 1,\n",
       " 1,\n",
       " 1,\n",
       " 1,\n",
       " 1,\n",
       " 1,\n",
       " 1,\n",
       " 1,\n",
       " 1,\n",
       " 1,\n",
       " 1,\n",
       " 1,\n",
       " 1,\n",
       " 1,\n",
       " 1,\n",
       " 1,\n",
       " 1,\n",
       " 1,\n",
       " 1,\n",
       " 1,\n",
       " 1,\n",
       " 1,\n",
       " 1,\n",
       " 1,\n",
       " 1,\n",
       " 1,\n",
       " 1,\n",
       " 1,\n",
       " 1,\n",
       " 1,\n",
       " 1,\n",
       " 1,\n",
       " 1,\n",
       " 1,\n",
       " 1,\n",
       " 1,\n",
       " 1,\n",
       " 1,\n",
       " 1,\n",
       " 1,\n",
       " 1,\n",
       " 1,\n",
       " 1,\n",
       " 1,\n",
       " 1,\n",
       " 1,\n",
       " 1,\n",
       " 1,\n",
       " 1,\n",
       " 1,\n",
       " 1,\n",
       " 1,\n",
       " 2,\n",
       " 1,\n",
       " 1,\n",
       " 1,\n",
       " 1,\n",
       " 1,\n",
       " 1,\n",
       " 1,\n",
       " 1,\n",
       " 1,\n",
       " 1,\n",
       " 1,\n",
       " 1,\n",
       " 1,\n",
       " 1,\n",
       " 1,\n",
       " 1,\n",
       " 1,\n",
       " 1,\n",
       " 1,\n",
       " 1,\n",
       " 1,\n",
       " 1,\n",
       " 1,\n",
       " 1,\n",
       " 1,\n",
       " 1,\n",
       " 1,\n",
       " 1,\n",
       " 1,\n",
       " 1,\n",
       " 1,\n",
       " 1,\n",
       " 1,\n",
       " 1,\n",
       " 1,\n",
       " 1,\n",
       " 1,\n",
       " 1,\n",
       " 1,\n",
       " 1,\n",
       " 1,\n",
       " 1,\n",
       " 1,\n",
       " 1,\n",
       " 1,\n",
       " 1,\n",
       " 1,\n",
       " 1,\n",
       " 1,\n",
       " 1,\n",
       " 1,\n",
       " 1,\n",
       " 1,\n",
       " 1,\n",
       " 1,\n",
       " 1,\n",
       " 1,\n",
       " 1,\n",
       " 1,\n",
       " 1,\n",
       " 1,\n",
       " 1,\n",
       " 1,\n",
       " 1,\n",
       " 1,\n",
       " 1,\n",
       " 1,\n",
       " 1,\n",
       " 1,\n",
       " 1,\n",
       " 1,\n",
       " 1,\n",
       " 1,\n",
       " 1,\n",
       " 1,\n",
       " 1,\n",
       " 1,\n",
       " 1,\n",
       " 1,\n",
       " 1,\n",
       " 1,\n",
       " 1,\n",
       " 1,\n",
       " 1,\n",
       " 1,\n",
       " 1,\n",
       " 1,\n",
       " 1,\n",
       " 1,\n",
       " 1,\n",
       " 1,\n",
       " 1,\n",
       " 1,\n",
       " 1,\n",
       " 1,\n",
       " 1,\n",
       " 1,\n",
       " 1,\n",
       " 1,\n",
       " 1,\n",
       " 1,\n",
       " 1,\n",
       " 1,\n",
       " 1,\n",
       " 1,\n",
       " 1,\n",
       " 1,\n",
       " 1,\n",
       " 1,\n",
       " 1,\n",
       " 1,\n",
       " 1,\n",
       " 1,\n",
       " 1,\n",
       " 1,\n",
       " 1,\n",
       " 1,\n",
       " 1,\n",
       " 1,\n",
       " 1,\n",
       " 1,\n",
       " 1,\n",
       " 1,\n",
       " 1,\n",
       " 1,\n",
       " 1,\n",
       " 1,\n",
       " 1,\n",
       " 1,\n",
       " 1,\n",
       " 1,\n",
       " 1,\n",
       " 1,\n",
       " 1,\n",
       " 1,\n",
       " 1,\n",
       " 1,\n",
       " 1,\n",
       " 1,\n",
       " 1,\n",
       " 1,\n",
       " 1,\n",
       " 1,\n",
       " 1,\n",
       " 1,\n",
       " 1,\n",
       " 1,\n",
       " 1,\n",
       " 1,\n",
       " 1,\n",
       " 1,\n",
       " 1,\n",
       " 1,\n",
       " 1,\n",
       " 1,\n",
       " 1,\n",
       " 1,\n",
       " 1,\n",
       " 1,\n",
       " 1,\n",
       " 1,\n",
       " 1,\n",
       " 1,\n",
       " 1,\n",
       " 1,\n",
       " 1,\n",
       " 1,\n",
       " 1,\n",
       " 1,\n",
       " 1,\n",
       " 1,\n",
       " 1,\n",
       " 1,\n",
       " 1,\n",
       " 1,\n",
       " 1,\n",
       " 1,\n",
       " 1,\n",
       " 1,\n",
       " 1,\n",
       " 1,\n",
       " 1,\n",
       " 1,\n",
       " 1,\n",
       " 1,\n",
       " 1,\n",
       " 1,\n",
       " 1,\n",
       " 1,\n",
       " 1,\n",
       " 1,\n",
       " 1,\n",
       " 1,\n",
       " 1,\n",
       " 1,\n",
       " 1,\n",
       " 1,\n",
       " 1,\n",
       " 10,\n",
       " 1,\n",
       " 1,\n",
       " 1,\n",
       " 1,\n",
       " 1,\n",
       " 1,\n",
       " 1,\n",
       " 1,\n",
       " 1,\n",
       " 1,\n",
       " 1,\n",
       " 1,\n",
       " 1,\n",
       " 1,\n",
       " 1,\n",
       " 1,\n",
       " 1,\n",
       " 1,\n",
       " 1,\n",
       " 1,\n",
       " 1,\n",
       " 1,\n",
       " 1,\n",
       " 1,\n",
       " 1,\n",
       " 1,\n",
       " 1,\n",
       " 1,\n",
       " 1,\n",
       " 1,\n",
       " 1,\n",
       " 1,\n",
       " 1,\n",
       " 1,\n",
       " 1,\n",
       " 1,\n",
       " 1,\n",
       " 1,\n",
       " 1,\n",
       " 1,\n",
       " 1,\n",
       " 1,\n",
       " 1,\n",
       " 1,\n",
       " 1,\n",
       " 1,\n",
       " 1,\n",
       " 1,\n",
       " 1,\n",
       " 1,\n",
       " 1,\n",
       " 1,\n",
       " 1,\n",
       " 1,\n",
       " 1,\n",
       " 1,\n",
       " 1,\n",
       " 1,\n",
       " 1,\n",
       " 1,\n",
       " 1,\n",
       " 1,\n",
       " 1,\n",
       " 1,\n",
       " 1,\n",
       " 1,\n",
       " 1,\n",
       " 1,\n",
       " 1,\n",
       " 1,\n",
       " 1,\n",
       " 1,\n",
       " 1,\n",
       " 1,\n",
       " 1,\n",
       " 1,\n",
       " 1,\n",
       " 1,\n",
       " 1,\n",
       " 1,\n",
       " 1,\n",
       " 1,\n",
       " 1,\n",
       " 1,\n",
       " 1,\n",
       " 1,\n",
       " 1,\n",
       " 1,\n",
       " 1,\n",
       " 1,\n",
       " 1,\n",
       " 1,\n",
       " 1,\n",
       " 1,\n",
       " 1,\n",
       " 1,\n",
       " 1,\n",
       " 1,\n",
       " 1,\n",
       " 1,\n",
       " 1,\n",
       " 1,\n",
       " 1,\n",
       " 1,\n",
       " 1,\n",
       " 1,\n",
       " 1,\n",
       " 1,\n",
       " 1,\n",
       " 1,\n",
       " 1,\n",
       " 1,\n",
       " 1,\n",
       " 1,\n",
       " 1,\n",
       " 1,\n",
       " 1,\n",
       " 1,\n",
       " 1,\n",
       " 1,\n",
       " 1,\n",
       " 1,\n",
       " 1,\n",
       " 1,\n",
       " 1,\n",
       " 1,\n",
       " 1,\n",
       " 1,\n",
       " 1,\n",
       " 1,\n",
       " 1,\n",
       " 1,\n",
       " 1,\n",
       " 1,\n",
       " 1,\n",
       " 1,\n",
       " 1,\n",
       " 1,\n",
       " 1,\n",
       " 1,\n",
       " 1,\n",
       " 1,\n",
       " 1,\n",
       " 1,\n",
       " 1,\n",
       " 1,\n",
       " 1,\n",
       " 1,\n",
       " 1,\n",
       " 1,\n",
       " 1,\n",
       " 1,\n",
       " 1,\n",
       " 1,\n",
       " 1,\n",
       " 1,\n",
       " 1,\n",
       " 1,\n",
       " 1,\n",
       " 1,\n",
       " 1,\n",
       " 1,\n",
       " 1,\n",
       " 1,\n",
       " 1,\n",
       " 1,\n",
       " 1,\n",
       " 1,\n",
       " 1,\n",
       " 1,\n",
       " 1,\n",
       " 1,\n",
       " 1,\n",
       " 1,\n",
       " 1,\n",
       " 1,\n",
       " 1,\n",
       " 1,\n",
       " 1,\n",
       " 1,\n",
       " 1,\n",
       " 1,\n",
       " 1,\n",
       " 1,\n",
       " 1,\n",
       " 1,\n",
       " 1,\n",
       " 1,\n",
       " 1,\n",
       " 1,\n",
       " 1,\n",
       " 1,\n",
       " 1,\n",
       " 1,\n",
       " 1,\n",
       " 1,\n",
       " 1,\n",
       " 1,\n",
       " 1,\n",
       " 1,\n",
       " 1,\n",
       " 1,\n",
       " 1,\n",
       " 1,\n",
       " 1,\n",
       " 1,\n",
       " 1,\n",
       " 1,\n",
       " 1,\n",
       " 1,\n",
       " 1,\n",
       " 1,\n",
       " 1,\n",
       " 1,\n",
       " 1,\n",
       " 1,\n",
       " 1,\n",
       " 1,\n",
       " 1,\n",
       " 1,\n",
       " 1,\n",
       " 1,\n",
       " 1,\n",
       " 1,\n",
       " 1,\n",
       " 1,\n",
       " 1,\n",
       " 1,\n",
       " 1,\n",
       " 1,\n",
       " 1,\n",
       " 1,\n",
       " 1,\n",
       " 1,\n",
       " 1,\n",
       " 1,\n",
       " 1,\n",
       " 1,\n",
       " 1,\n",
       " 1,\n",
       " 1,\n",
       " 1,\n",
       " 1,\n",
       " 1,\n",
       " 1,\n",
       " 1,\n",
       " 1,\n",
       " 1,\n",
       " 1,\n",
       " 1,\n",
       " 1,\n",
       " 1,\n",
       " 1,\n",
       " 1,\n",
       " 1,\n",
       " 1,\n",
       " 1,\n",
       " 1,\n",
       " 1,\n",
       " 1,\n",
       " 1,\n",
       " 1,\n",
       " 1,\n",
       " 1,\n",
       " 1,\n",
       " 1,\n",
       " 1,\n",
       " 1,\n",
       " 1,\n",
       " 1,\n",
       " 1,\n",
       " 1,\n",
       " 1,\n",
       " 1,\n",
       " 1,\n",
       " 1,\n",
       " 1,\n",
       " 1,\n",
       " 1,\n",
       " 1,\n",
       " 1,\n",
       " 1,\n",
       " 1,\n",
       " 1,\n",
       " 1,\n",
       " 1,\n",
       " 1,\n",
       " 1,\n",
       " 1,\n",
       " 1,\n",
       " 1,\n",
       " 1,\n",
       " 1,\n",
       " 1,\n",
       " 1,\n",
       " 1,\n",
       " 1,\n",
       " 1,\n",
       " 1,\n",
       " 1,\n",
       " 1,\n",
       " 1,\n",
       " 1,\n",
       " 1,\n",
       " 1,\n",
       " 1,\n",
       " 1,\n",
       " 1,\n",
       " 1,\n",
       " 1,\n",
       " 1,\n",
       " 1,\n",
       " 1,\n",
       " 1,\n",
       " 1,\n",
       " 1,\n",
       " 1,\n",
       " 1,\n",
       " 1,\n",
       " 1,\n",
       " 1,\n",
       " 1,\n",
       " 1,\n",
       " 1,\n",
       " 1,\n",
       " 1,\n",
       " 1,\n",
       " 1,\n",
       " 1,\n",
       " 1,\n",
       " 1,\n",
       " 1,\n",
       " 1,\n",
       " 1,\n",
       " 1,\n",
       " 1,\n",
       " 1,\n",
       " 1,\n",
       " 1,\n",
       " 1,\n",
       " 1,\n",
       " 1,\n",
       " 1,\n",
       " 1,\n",
       " 1,\n",
       " 1,\n",
       " 1,\n",
       " 1,\n",
       " 1,\n",
       " 1,\n",
       " 1,\n",
       " 1,\n",
       " 1,\n",
       " 1,\n",
       " 1,\n",
       " 1,\n",
       " 1,\n",
       " 1,\n",
       " 1,\n",
       " 1,\n",
       " 1,\n",
       " 1,\n",
       " 1,\n",
       " 1,\n",
       " 1,\n",
       " 1,\n",
       " 1,\n",
       " 1,\n",
       " 1,\n",
       " 1,\n",
       " 1,\n",
       " 1,\n",
       " 1,\n",
       " 1,\n",
       " 1,\n",
       " 1,\n",
       " 1,\n",
       " 1,\n",
       " 1,\n",
       " 1,\n",
       " 1,\n",
       " 1,\n",
       " 1,\n",
       " 1,\n",
       " 1,\n",
       " 1,\n",
       " 1,\n",
       " 1,\n",
       " 1,\n",
       " 1,\n",
       " 1,\n",
       " 1,\n",
       " 1,\n",
       " 1,\n",
       " 1,\n",
       " 1,\n",
       " 1,\n",
       " 1,\n",
       " 1,\n",
       " 1,\n",
       " 1,\n",
       " 1,\n",
       " 1,\n",
       " 1,\n",
       " 1,\n",
       " 1,\n",
       " 1,\n",
       " 1,\n",
       " 1,\n",
       " 1,\n",
       " 1,\n",
       " 1,\n",
       " 1,\n",
       " 1,\n",
       " 1,\n",
       " 1,\n",
       " 1,\n",
       " 1,\n",
       " 1,\n",
       " 1,\n",
       " 1,\n",
       " 1,\n",
       " 1,\n",
       " 1,\n",
       " 1,\n",
       " 1,\n",
       " 1,\n",
       " 1,\n",
       " 1,\n",
       " 1,\n",
       " 1,\n",
       " 1,\n",
       " 1,\n",
       " 1,\n",
       " 1,\n",
       " 1,\n",
       " 1,\n",
       " 1,\n",
       " 1,\n",
       " 1,\n",
       " 1,\n",
       " 1,\n",
       " 1,\n",
       " 1,\n",
       " 1,\n",
       " 1,\n",
       " 1,\n",
       " 1,\n",
       " 1,\n",
       " 1,\n",
       " 1,\n",
       " 1,\n",
       " 1,\n",
       " 1,\n",
       " 1,\n",
       " 1,\n",
       " 1,\n",
       " 1,\n",
       " 1,\n",
       " 1,\n",
       " 1,\n",
       " 1,\n",
       " 1,\n",
       " 1,\n",
       " 1,\n",
       " 1,\n",
       " 1,\n",
       " 1,\n",
       " 1,\n",
       " 1,\n",
       " 1,\n",
       " 1,\n",
       " 1,\n",
       " 1,\n",
       " 1,\n",
       " 1,\n",
       " 1,\n",
       " 1,\n",
       " 1,\n",
       " 1,\n",
       " 1,\n",
       " 1,\n",
       " 1,\n",
       " 1,\n",
       " 1,\n",
       " 1,\n",
       " 1,\n",
       " 1,\n",
       " 1,\n",
       " 1,\n",
       " 1,\n",
       " 1,\n",
       " 1,\n",
       " 1,\n",
       " 1,\n",
       " 1,\n",
       " 1,\n",
       " 1,\n",
       " 1,\n",
       " 1,\n",
       " 1,\n",
       " 1,\n",
       " 1,\n",
       " 1,\n",
       " 1,\n",
       " 1,\n",
       " 1,\n",
       " 1,\n",
       " 1,\n",
       " 1,\n",
       " 1,\n",
       " 1,\n",
       " 1,\n",
       " 1,\n",
       " 1,\n",
       " 1,\n",
       " 1,\n",
       " 1,\n",
       " 1,\n",
       " 1,\n",
       " 1,\n",
       " 1,\n",
       " 1,\n",
       " 1,\n",
       " 1,\n",
       " 1,\n",
       " 1,\n",
       " 1,\n",
       " 1,\n",
       " 1,\n",
       " 1,\n",
       " 1,\n",
       " 1,\n",
       " 1,\n",
       " 1,\n",
       " 1,\n",
       " 1,\n",
       " 1,\n",
       " 1,\n",
       " 1,\n",
       " 1,\n",
       " 1,\n",
       " 1,\n",
       " 1,\n",
       " 1,\n",
       " 1,\n",
       " 1,\n",
       " 1,\n",
       " 1,\n",
       " 1,\n",
       " 1,\n",
       " 1,\n",
       " 1,\n",
       " 1,\n",
       " 1,\n",
       " 1,\n",
       " 1,\n",
       " 1,\n",
       " 1,\n",
       " 1,\n",
       " 1,\n",
       " 1,\n",
       " 1,\n",
       " 1,\n",
       " 1,\n",
       " 1,\n",
       " 1,\n",
       " 1,\n",
       " 1,\n",
       " 1,\n",
       " 1,\n",
       " 1,\n",
       " 1,\n",
       " 1,\n",
       " 1,\n",
       " 1,\n",
       " 1,\n",
       " 1,\n",
       " 1,\n",
       " 1,\n",
       " 1,\n",
       " 1,\n",
       " 1,\n",
       " 1,\n",
       " 1,\n",
       " 1,\n",
       " 1,\n",
       " 1,\n",
       " 1,\n",
       " 1,\n",
       " 1,\n",
       " 1,\n",
       " 1,\n",
       " ...]"
      ]
     },
     "execution_count": 69,
     "metadata": {},
     "output_type": "execute_result"
    }
   ],
   "source": []
  },
  {
   "cell_type": "code",
   "execution_count": null,
   "metadata": {},
   "outputs": [],
   "source": []
  }
 ],
 "metadata": {
  "kernelspec": {
   "display_name": "Python 3",
   "language": "python",
   "name": "python3"
  },
  "language_info": {
   "codemirror_mode": {
    "name": "ipython",
    "version": 3
   },
   "file_extension": ".py",
   "mimetype": "text/x-python",
   "name": "python",
   "nbconvert_exporter": "python",
   "pygments_lexer": "ipython3",
   "version": "3.6.5"
  }
 },
 "nbformat": 4,
 "nbformat_minor": 2
}
