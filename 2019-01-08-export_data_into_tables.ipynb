{
 "cells": [
  {
   "cell_type": "code",
   "execution_count": 1,
   "metadata": {},
   "outputs": [],
   "source": [
    "from gen_model2 import gen_model, load_data"
   ]
  },
  {
   "cell_type": "code",
   "execution_count": 5,
   "metadata": {},
   "outputs": [],
   "source": [
    "from tqdm import tqdm\n",
    "from collections import defaultdict\n",
    "from pathlib import Path"
   ]
  },
  {
   "cell_type": "code",
   "execution_count": 7,
   "metadata": {},
   "outputs": [
    {
     "data": {
      "text/plain": [
       "PosixPath('2019-01-08-event_data/hola')"
      ]
     },
     "execution_count": 7,
     "metadata": {},
     "output_type": "execute_result"
    }
   ],
   "source": [
    "export_path = Path('2019-01-08-event_data')\n",
    "\n",
    "export_path / \"hola\""
   ]
  },
  {
   "cell_type": "code",
   "execution_count": 2,
   "metadata": {},
   "outputs": [
    {
     "name": "stderr",
     "output_type": "stream",
     "text": [
      "100%|██████████| 26331/26331 [00:00<00:00, 982546.74it/s]\n",
      "100%|██████████| 112260/112260 [00:00<00:00, 986901.26it/s]\n",
      "100%|██████████| 503660/503660 [00:00<00:00, 898550.56it/s]\n"
     ]
    }
   ],
   "source": [
    "models = {\n",
    "    'libya': gen_model('libya_hotel_tweets.tsv'),\n",
    "    'pistorius': gen_model('oscar_pistorius_tweets.tsv'),\n",
    "    'nepal': gen_model('nepal_tweets.tsv')\n",
    "}"
   ]
  },
  {
   "cell_type": "markdown",
   "metadata": {},
   "source": [
    "# Event data"
   ]
  },
  {
   "cell_type": "markdown",
   "metadata": {},
   "source": [
    "## tweet ids, texts, replies, rts"
   ]
  },
  {
   "cell_type": "code",
   "execution_count": 14,
   "metadata": {},
   "outputs": [
    {
     "name": "stderr",
     "output_type": "stream",
     "text": [
      "100%|██████████| 3/3 [00:01<00:00,  1.95it/s]\n"
     ]
    }
   ],
   "source": [
    "with (export_path / 'event_data.tsv').open('w') as f:\n",
    "    f.write('event\\ttweet_id\\tretweet_id\\treply_id\\ttext\\n')\n",
    "    for event, info in tqdm(models.items()):\n",
    "        for tweet_id, tweet in info['event_data'].items():\n",
    "            text = tweet.text\n",
    "            text = text.replace('\"', \"'\")\n",
    "            text = text.split()\n",
    "            text = ' '.join(text)\n",
    "            text = f'\"{text}\"'\n",
    "            \n",
    "            rt_id = tweet.retweet_id if tweet.retweet_id != \"NULL\" else \"NA\"\n",
    "            rp_id = tweet.reply_id if tweet.reply_id != \"NULL\" else \"NA\"\n",
    "            \n",
    "            f.write(f'{event}\\t{tweet_id}\\t{rt_id}\\t{rp_id}\\t{text}\\n')"
   ]
  },
  {
   "cell_type": "markdown",
   "metadata": {},
   "source": [
    "## urls for each tweet"
   ]
  },
  {
   "cell_type": "code",
   "execution_count": 11,
   "metadata": {},
   "outputs": [
    {
     "data": {
      "text/plain": [
       "Tweet(tweet_id='560028495792050176', retweet_id='560027393432502272', quote_id='NULL', reply_id='NULL', short_urls=['http://t.co/5TK7TsFd6P', 'http://t.co/jszG3p'], expanded_urls={0: 'https://www.rt.com/news/226603-libya-tripoli-gunmen-seige/', 1: None}, text='#CorinthiaHotel: Suicide bombers &amp; 5 masked gunmen attack hotel, hostages on top floor  http://t.co/5TK7TsFd6P #Lybia http://t.co/jszG3p', created_at='2015-01-27 10:56:12')"
      ]
     },
     "execution_count": 11,
     "metadata": {},
     "output_type": "execute_result"
    }
   ],
   "source": [
    "# example:\n",
    "models['libya']['event_data']['560028495792050176']"
   ]
  },
  {
   "cell_type": "code",
   "execution_count": 13,
   "metadata": {},
   "outputs": [
    {
     "name": "stderr",
     "output_type": "stream",
     "text": [
      "100%|██████████| 3/3 [00:00<00:00,  6.42it/s]\n"
     ]
    }
   ],
   "source": [
    "with (export_path / 'event_data_urls.tsv').open('w') as f:\n",
    "    f.write('event\\ttweet_id\\turl\\n')\n",
    "    for event, info in tqdm(models.items()):\n",
    "        for tweet_id, tweet in info['event_data'].items():\n",
    "            expanded_urls = tweet.expanded_urls\n",
    "            \n",
    "            for url in expanded_urls.values():\n",
    "                if url:\n",
    "                    f.write(f'{event}\\t{tweet_id}\\t{url}\\n')"
   ]
  },
  {
   "cell_type": "code",
   "execution_count": null,
   "metadata": {},
   "outputs": [],
   "source": []
  },
  {
   "cell_type": "code",
   "execution_count": null,
   "metadata": {},
   "outputs": [],
   "source": []
  },
  {
   "cell_type": "code",
   "execution_count": null,
   "metadata": {},
   "outputs": [],
   "source": []
  },
  {
   "cell_type": "markdown",
   "metadata": {},
   "source": [
    "# Model data"
   ]
  },
  {
   "cell_type": "code",
   "execution_count": 3,
   "metadata": {},
   "outputs": [],
   "source": []
  },
  {
   "cell_type": "code",
   "execution_count": null,
   "metadata": {},
   "outputs": [],
   "source": []
  }
 ],
 "metadata": {
  "kernelspec": {
   "display_name": "Python 3",
   "language": "python",
   "name": "python3"
  },
  "language_info": {
   "codemirror_mode": {
    "name": "ipython",
    "version": 3
   },
   "file_extension": ".py",
   "mimetype": "text/x-python",
   "name": "python",
   "nbconvert_exporter": "python",
   "pygments_lexer": "ipython3",
   "version": "3.6.5"
  }
 },
 "nbformat": 4,
 "nbformat_minor": 2
}
