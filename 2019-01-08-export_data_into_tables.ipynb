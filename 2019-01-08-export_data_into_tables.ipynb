{
 "cells": [
  {
   "cell_type": "code",
   "execution_count": 1,
   "metadata": {},
   "outputs": [],
   "source": [
    "from gen_model2 import gen_model, load_data"
   ]
  },
  {
   "cell_type": "code",
   "execution_count": 52,
   "metadata": {},
   "outputs": [],
   "source": [
    "from collections import defaultdict\n",
    "from pathlib import Path\n",
    "\n",
    "from tqdm import tqdm_notebook as tqdm\n",
    "\n",
    "from gensim.models import KeyedVectors\n",
    "import spacy\n",
    "\n",
    "from numpy.linalg import norm\n",
    "from scipy.stats.mstats import gmean\n",
    "import numpy as np"
   ]
  },
  {
   "cell_type": "code",
   "execution_count": 7,
   "metadata": {},
   "outputs": [
    {
     "data": {
      "text/plain": [
       "PosixPath('2019-01-08-event_data/hola')"
      ]
     },
     "execution_count": 7,
     "metadata": {},
     "output_type": "execute_result"
    }
   ],
   "source": [
    "export_path = Path('2019-01-08-event_data')\n",
    "\n",
    "export_path / \"hola\""
   ]
  },
  {
   "cell_type": "code",
   "execution_count": 2,
   "metadata": {},
   "outputs": [
    {
     "name": "stderr",
     "output_type": "stream",
     "text": [
      "100%|██████████| 26331/26331 [00:00<00:00, 982546.74it/s]\n",
      "100%|██████████| 112260/112260 [00:00<00:00, 986901.26it/s]\n",
      "100%|██████████| 503660/503660 [00:00<00:00, 898550.56it/s]\n"
     ]
    }
   ],
   "source": [
    "models = {\n",
    "    'libya': gen_model('libya_hotel_tweets.tsv'),\n",
    "    'pistorius': gen_model('oscar_pistorius_tweets.tsv'),\n",
    "    'nepal': gen_model('nepal_tweets.tsv')\n",
    "}"
   ]
  },
  {
   "cell_type": "markdown",
   "metadata": {},
   "source": [
    "# Event data"
   ]
  },
  {
   "cell_type": "markdown",
   "metadata": {},
   "source": [
    "## tweet ids, texts, replies, rts"
   ]
  },
  {
   "cell_type": "code",
   "execution_count": 14,
   "metadata": {},
   "outputs": [
    {
     "name": "stderr",
     "output_type": "stream",
     "text": [
      "100%|██████████| 3/3 [00:01<00:00,  1.95it/s]\n"
     ]
    }
   ],
   "source": [
    "with (export_path / 'event_data.tsv').open('w') as f:\n",
    "    f.write('event\\ttweet_id\\tretweet_id\\treply_id\\ttext\\n')\n",
    "    for event, info in tqdm(models.items()):\n",
    "        for tweet_id, tweet in info['event_data'].items():\n",
    "            text = tweet.text\n",
    "            text = text.replace('\"', \"'\")\n",
    "            text = text.split()\n",
    "            text = ' '.join(text)\n",
    "            text = f'\"{text}\"'\n",
    "            \n",
    "            rt_id = tweet.retweet_id if tweet.retweet_id != \"NULL\" else \"NA\"\n",
    "            rp_id = tweet.reply_id if tweet.reply_id != \"NULL\" else \"NA\"\n",
    "            \n",
    "            f.write(f'{event}\\t{tweet_id}\\t{rt_id}\\t{rp_id}\\t{text}\\n')"
   ]
  },
  {
   "cell_type": "markdown",
   "metadata": {},
   "source": [
    "## urls for each tweet"
   ]
  },
  {
   "cell_type": "code",
   "execution_count": 11,
   "metadata": {},
   "outputs": [
    {
     "data": {
      "text/plain": [
       "Tweet(tweet_id='560028495792050176', retweet_id='560027393432502272', quote_id='NULL', reply_id='NULL', short_urls=['http://t.co/5TK7TsFd6P', 'http://t.co/jszG3p'], expanded_urls={0: 'https://www.rt.com/news/226603-libya-tripoli-gunmen-seige/', 1: None}, text='#CorinthiaHotel: Suicide bombers &amp; 5 masked gunmen attack hotel, hostages on top floor  http://t.co/5TK7TsFd6P #Lybia http://t.co/jszG3p', created_at='2015-01-27 10:56:12')"
      ]
     },
     "execution_count": 11,
     "metadata": {},
     "output_type": "execute_result"
    }
   ],
   "source": [
    "# example:\n",
    "models['libya']['event_data']['560028495792050176']"
   ]
  },
  {
   "cell_type": "code",
   "execution_count": 13,
   "metadata": {},
   "outputs": [
    {
     "name": "stderr",
     "output_type": "stream",
     "text": [
      "100%|██████████| 3/3 [00:00<00:00,  6.42it/s]\n"
     ]
    }
   ],
   "source": [
    "with (export_path / 'event_data_urls.tsv').open('w') as f:\n",
    "    f.write('event\\ttweet_id\\turl\\n')\n",
    "    for event, info in tqdm(models.items()):\n",
    "        for tweet_id, tweet in info['event_data'].items():\n",
    "            expanded_urls = tweet.expanded_urls\n",
    "            \n",
    "            for url in expanded_urls.values():\n",
    "                if url:\n",
    "                    f.write(f'{event}\\t{tweet_id}\\t{url}\\n')"
   ]
  },
  {
   "cell_type": "code",
   "execution_count": null,
   "metadata": {},
   "outputs": [],
   "source": []
  },
  {
   "cell_type": "code",
   "execution_count": null,
   "metadata": {},
   "outputs": [],
   "source": []
  },
  {
   "cell_type": "code",
   "execution_count": null,
   "metadata": {},
   "outputs": [],
   "source": []
  },
  {
   "cell_type": "markdown",
   "metadata": {},
   "source": [
    "# Model data"
   ]
  },
  {
   "cell_type": "code",
   "execution_count": 16,
   "metadata": {},
   "outputs": [],
   "source": [
    "ft_model = KeyedVectors.load_word2vec_format('data_for_model/all_tweets_300.vec')"
   ]
  },
  {
   "cell_type": "code",
   "execution_count": 21,
   "metadata": {},
   "outputs": [],
   "source": [
    "nlp = spacy.load('en', disable=[\"tagger\", \"parser\", \"ner\"])"
   ]
  },
  {
   "cell_type": "markdown",
   "metadata": {},
   "source": [
    "## Version 1: sum of vectors"
   ]
  },
  {
   "cell_type": "code",
   "execution_count": 27,
   "metadata": {},
   "outputs": [
    {
     "data": {
      "application/vnd.jupyter.widget-view+json": {
       "model_id": "",
       "version_major": 2,
       "version_minor": 0
      },
      "text/plain": [
       "HBox(children=(IntProgress(value=0, max=3), HTML(value='')))"
      ]
     },
     "metadata": {},
     "output_type": "display_data"
    },
    {
     "data": {
      "application/vnd.jupyter.widget-view+json": {
       "model_id": "",
       "version_major": 2,
       "version_minor": 0
      },
      "text/plain": [
       "HBox(children=(IntProgress(value=0, max=3399), HTML(value='')))"
      ]
     },
     "metadata": {},
     "output_type": "display_data"
    },
    {
     "data": {
      "application/vnd.jupyter.widget-view+json": {
       "model_id": "",
       "version_major": 2,
       "version_minor": 0
      },
      "text/plain": [
       "HBox(children=(IntProgress(value=0, max=9640), HTML(value='')))"
      ]
     },
     "metadata": {},
     "output_type": "display_data"
    },
    {
     "name": "stderr",
     "output_type": "stream",
     "text": [
      "/home/mquezada/anaconda3/envs/news-model/lib/python3.6/site-packages/ipykernel_launcher.py:13: RuntimeWarning: invalid value encountered in true_divide\n",
      "  del sys.path[0]\n"
     ]
    },
    {
     "data": {
      "application/vnd.jupyter.widget-view+json": {
       "model_id": "",
       "version_major": 2,
       "version_minor": 0
      },
      "text/plain": [
       "HBox(children=(IntProgress(value=0, max=22915), HTML(value='')))"
      ]
     },
     "metadata": {},
     "output_type": "display_data"
    },
    {
     "name": "stdout",
     "output_type": "stream",
     "text": [
      "\n"
     ]
    }
   ],
   "source": [
    "vectors_sum = dict()\n",
    "\n",
    "for event, comp in tqdm(components.items()):\n",
    "    vectors_sum[event] = dict()\n",
    "    \n",
    "    for key, tweet_ids in tqdm(comp.items()):\n",
    "        vec = np.zeros(300)\n",
    "        for tweet_id in tweet_ids:\n",
    "            tweet = models[event]['event_data'][tweet_id]\n",
    "            text = tweet.text\n",
    "            for word in [token.lower_ for token in nlp(text) if token.lower_ in ft_model]:\n",
    "                vec += ft_model[word]\n",
    "        vec = vec / norm(vec)\n",
    "        vectors_sum[event][key] = vec"
   ]
  },
  {
   "cell_type": "code",
   "execution_count": 30,
   "metadata": {},
   "outputs": [
    {
     "data": {
      "application/vnd.jupyter.widget-view+json": {
       "model_id": "",
       "version_major": 2,
       "version_minor": 0
      },
      "text/plain": [
       "HBox(children=(IntProgress(value=0, max=3), HTML(value='')))"
      ]
     },
     "metadata": {},
     "output_type": "display_data"
    },
    {
     "name": "stdout",
     "output_type": "stream",
     "text": [
      "\n"
     ]
    }
   ],
   "source": [
    "with (export_path / 'model_vectors_sum.tsv').open('w') as f:\n",
    "    for event, vecs in tqdm(vectors_sum.items()):\n",
    "        for key, vec in vecs.items():\n",
    "            vec_str = '\\t'.join(str(val) for val in vec)\n",
    "            f.write(f'{event}\\t{key}\\t{vec_str}\\n')\n"
   ]
  },
  {
   "cell_type": "code",
   "execution_count": 31,
   "metadata": {},
   "outputs": [],
   "source": [
    "del vectors_sum"
   ]
  },
  {
   "cell_type": "code",
   "execution_count": null,
   "metadata": {},
   "outputs": [],
   "source": []
  },
  {
   "cell_type": "code",
   "execution_count": null,
   "metadata": {},
   "outputs": [],
   "source": []
  },
  {
   "cell_type": "code",
   "execution_count": null,
   "metadata": {},
   "outputs": [],
   "source": []
  },
  {
   "cell_type": "code",
   "execution_count": null,
   "metadata": {},
   "outputs": [],
   "source": []
  },
  {
   "cell_type": "code",
   "execution_count": null,
   "metadata": {},
   "outputs": [],
   "source": []
  },
  {
   "cell_type": "markdown",
   "metadata": {},
   "source": [
    "### ???\n",
    "\n",
    "Estará bien normalizar los vectores de cada palabra al sumarlos?\n",
    "\n",
    "```\n",
    "\n",
    "for word in [token.lower_ for token in nlp(text) if token.lower_ in ft_model]:\n",
    "                vec += (ft_model[word] / norm(ft_model[word]))        \n",
    "            vecs_comp.append(vec)\n",
    "        \n",
    "        vecs_comp = np.mean(vecs_comp, axis=0)\n",
    "        vecs_comp = vecs_comp / norm(vecs_comp)```"
   ]
  },
  {
   "cell_type": "markdown",
   "metadata": {},
   "source": [
    "## Version 2: avg of vectors"
   ]
  },
  {
   "cell_type": "code",
   "execution_count": 40,
   "metadata": {},
   "outputs": [
    {
     "data": {
      "application/vnd.jupyter.widget-view+json": {
       "model_id": "",
       "version_major": 2,
       "version_minor": 0
      },
      "text/plain": [
       "HBox(children=(IntProgress(value=0, max=3), HTML(value='')))"
      ]
     },
     "metadata": {},
     "output_type": "display_data"
    },
    {
     "data": {
      "application/vnd.jupyter.widget-view+json": {
       "model_id": "",
       "version_major": 2,
       "version_minor": 0
      },
      "text/plain": [
       "HBox(children=(IntProgress(value=0, max=3399), HTML(value='')))"
      ]
     },
     "metadata": {},
     "output_type": "display_data"
    },
    {
     "data": {
      "application/vnd.jupyter.widget-view+json": {
       "model_id": "",
       "version_major": 2,
       "version_minor": 0
      },
      "text/plain": [
       "HBox(children=(IntProgress(value=0, max=9640), HTML(value='')))"
      ]
     },
     "metadata": {},
     "output_type": "display_data"
    },
    {
     "name": "stderr",
     "output_type": "stream",
     "text": [
      "/home/mquezada/anaconda3/envs/news-model/lib/python3.6/site-packages/ipykernel_launcher.py:18: RuntimeWarning: invalid value encountered in true_divide\n"
     ]
    },
    {
     "data": {
      "application/vnd.jupyter.widget-view+json": {
       "model_id": "",
       "version_major": 2,
       "version_minor": 0
      },
      "text/plain": [
       "HBox(children=(IntProgress(value=0, max=22915), HTML(value='')))"
      ]
     },
     "metadata": {},
     "output_type": "display_data"
    },
    {
     "name": "stdout",
     "output_type": "stream",
     "text": [
      "\n"
     ]
    }
   ],
   "source": [
    "vectors_avg = dict()\n",
    "\n",
    "for event, comp in tqdm(components.items()):\n",
    "    vectors_avg[event] = dict()\n",
    "    \n",
    "    for key, tweet_ids in tqdm(comp.items()):\n",
    "        vecs_comp = []\n",
    "        \n",
    "        for tweet_id in tweet_ids:\n",
    "            tweet = models[event]['event_data'][tweet_id]\n",
    "            text = tweet.text\n",
    "            vec = np.zeros(300)\n",
    "            for word in [token.lower_ for token in nlp(text) if token.lower_ in ft_model]:\n",
    "                vec += (ft_model[word] / norm(ft_model[word]))        \n",
    "            vecs_comp.append(vec)\n",
    "        \n",
    "        vecs_comp = np.mean(vecs_comp, axis=0)\n",
    "        vecs_comp = vecs_comp / norm(vecs_comp)\n",
    "\n",
    "        vectors_avg[event][key] = vecs_comp"
   ]
  },
  {
   "cell_type": "code",
   "execution_count": 41,
   "metadata": {},
   "outputs": [
    {
     "data": {
      "application/vnd.jupyter.widget-view+json": {
       "model_id": "",
       "version_major": 2,
       "version_minor": 0
      },
      "text/plain": [
       "HBox(children=(IntProgress(value=0, max=3), HTML(value='')))"
      ]
     },
     "metadata": {},
     "output_type": "display_data"
    },
    {
     "name": "stdout",
     "output_type": "stream",
     "text": [
      "\n"
     ]
    }
   ],
   "source": [
    "with (export_path / 'model_vectors_avg.tsv').open('w') as f:\n",
    "    for event, vecs in tqdm(vectors_avg.items()):\n",
    "        for key, vec in vecs.items():\n",
    "            vec_str = '\\t'.join(str(val) for val in vec)\n",
    "            f.write(f'{event}\\t{key}\\t{vec_str}\\n')\n"
   ]
  },
  {
   "cell_type": "code",
   "execution_count": 51,
   "metadata": {
    "collapsed": true
   },
   "outputs": [
    {
     "ename": "NameError",
     "evalue": "name 'vectors_avg' is not defined",
     "output_type": "error",
     "traceback": [
      "\u001b[0;31m---------------------------------------------------------------------------\u001b[0m",
      "\u001b[0;31mNameError\u001b[0m                                 Traceback (most recent call last)",
      "\u001b[0;32m<ipython-input-51-38b3292f3c77>\u001b[0m in \u001b[0;36m<module>\u001b[0;34m()\u001b[0m\n\u001b[0;32m----> 1\u001b[0;31m \u001b[0;32mdel\u001b[0m \u001b[0mvectors_avg\u001b[0m\u001b[0;34m\u001b[0m\u001b[0m\n\u001b[0m",
      "\u001b[0;31mNameError\u001b[0m: name 'vectors_avg' is not defined"
     ]
    }
   ],
   "source": [
    "del vectors_avg"
   ]
  },
  {
   "cell_type": "code",
   "execution_count": null,
   "metadata": {},
   "outputs": [],
   "source": []
  },
  {
   "cell_type": "code",
   "execution_count": null,
   "metadata": {},
   "outputs": [],
   "source": []
  },
  {
   "cell_type": "code",
   "execution_count": null,
   "metadata": {},
   "outputs": [],
   "source": []
  },
  {
   "cell_type": "markdown",
   "metadata": {},
   "source": [
    "## Version 3: weighted with tf-idf"
   ]
  },
  {
   "cell_type": "code",
   "execution_count": null,
   "metadata": {},
   "outputs": [],
   "source": []
  }
 ],
 "metadata": {
  "kernelspec": {
   "display_name": "Python 3",
   "language": "python",
   "name": "python3"
  },
  "language_info": {
   "codemirror_mode": {
    "name": "ipython",
    "version": 3
   },
   "file_extension": ".py",
   "mimetype": "text/x-python",
   "name": "python",
   "nbconvert_exporter": "python",
   "pygments_lexer": "ipython3",
   "version": "3.6.5"
  }
 },
 "nbformat": 4,
 "nbformat_minor": 2
}
